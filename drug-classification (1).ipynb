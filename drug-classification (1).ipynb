{
 "cells": [
  {
   "cell_type": "code",
   "execution_count": 1,
   "id": "86dc2827",
   "metadata": {
    "_cell_guid": "b1076dfc-b9ad-4769-8c92-a6c4dae69d19",
    "_uuid": "8f2839f25d086af736a60e9eeb907d3b93b6e0e5",
    "execution": {
     "iopub.execute_input": "2022-08-24T20:24:39.675324Z",
     "iopub.status.busy": "2022-08-24T20:24:39.674864Z",
     "iopub.status.idle": "2022-08-24T20:24:39.694896Z",
     "shell.execute_reply": "2022-08-24T20:24:39.694019Z"
    },
    "papermill": {
     "duration": 0.033848,
     "end_time": "2022-08-24T20:24:39.698026",
     "exception": false,
     "start_time": "2022-08-24T20:24:39.664178",
     "status": "completed"
    },
    "tags": []
   },
   "outputs": [
    {
     "name": "stdout",
     "output_type": "stream",
     "text": [
      "/kaggle/input/drug-classification/drug200.csv\n"
     ]
    }
   ],
   "source": [
    "# This Python 3 environment comes with many helpful analytics libraries installed\n",
    "# It is defined by the kaggle/python Docker image: https://github.com/kaggle/docker-python\n",
    "# For example, here's several helpful packages to load\n",
    "\n",
    "import numpy as np # linear algebra\n",
    "import pandas as pd # data processing, CSV file I/O (e.g. pd.read_csv)\n",
    "\n",
    "# Input data files are available in the read-only \"../input/\" directory\n",
    "# For example, running this (by clicking run or pressing Shift+Enter) will list all files under the input directory\n",
    "\n",
    "import os\n",
    "for dirname, _, filenames in os.walk('/kaggle/input'):\n",
    "    for filename in filenames:\n",
    "        print(os.path.join(dirname, filename))\n",
    "\n",
    "# You can write up to 20GB to the current directory (/kaggle/working/) that gets preserved as output when you create a version using \"Save & Run All\" \n",
    "# You can also write temporary files to /kaggle/temp/, but they won't be saved outside of the current session"
   ]
  },
  {
   "cell_type": "markdown",
   "id": "35c3822c",
   "metadata": {
    "papermill": {
     "duration": 0.007038,
     "end_time": "2022-08-24T20:24:39.713767",
     "exception": false,
     "start_time": "2022-08-24T20:24:39.706729",
     "status": "completed"
    },
    "tags": []
   },
   "source": [
    "#### ***IMPORTING LIBRARIES***"
   ]
  },
  {
   "cell_type": "code",
   "execution_count": 2,
   "id": "c62d0897",
   "metadata": {
    "execution": {
     "iopub.execute_input": "2022-08-24T20:24:39.730440Z",
     "iopub.status.busy": "2022-08-24T20:24:39.729616Z",
     "iopub.status.idle": "2022-08-24T20:24:45.267824Z",
     "shell.execute_reply": "2022-08-24T20:24:45.266479Z"
    },
    "papermill": {
     "duration": 5.550005,
     "end_time": "2022-08-24T20:24:45.271044",
     "exception": false,
     "start_time": "2022-08-24T20:24:39.721039",
     "status": "completed"
    },
    "tags": []
   },
   "outputs": [],
   "source": [
    "import numpy as np\n",
    "import pandas as pd\n",
    "import tensorflow as tf\n",
    "from sklearn.metrics import accuracy_score"
   ]
  },
  {
   "cell_type": "markdown",
   "id": "1d625855",
   "metadata": {
    "papermill": {
     "duration": 0.007591,
     "end_time": "2022-08-24T20:24:45.286127",
     "exception": false,
     "start_time": "2022-08-24T20:24:45.278536",
     "status": "completed"
    },
    "tags": []
   },
   "source": [
    "#### ***IMPORTING DATASET***"
   ]
  },
  {
   "cell_type": "code",
   "execution_count": 3,
   "id": "7d219ff4",
   "metadata": {
    "execution": {
     "iopub.execute_input": "2022-08-24T20:24:45.302661Z",
     "iopub.status.busy": "2022-08-24T20:24:45.302033Z",
     "iopub.status.idle": "2022-08-24T20:24:45.336930Z",
     "shell.execute_reply": "2022-08-24T20:24:45.336044Z"
    },
    "papermill": {
     "duration": 0.045532,
     "end_time": "2022-08-24T20:24:45.339070",
     "exception": false,
     "start_time": "2022-08-24T20:24:45.293538",
     "status": "completed"
    },
    "tags": []
   },
   "outputs": [
    {
     "data": {
      "text/html": [
       "<div>\n",
       "<style scoped>\n",
       "    .dataframe tbody tr th:only-of-type {\n",
       "        vertical-align: middle;\n",
       "    }\n",
       "\n",
       "    .dataframe tbody tr th {\n",
       "        vertical-align: top;\n",
       "    }\n",
       "\n",
       "    .dataframe thead th {\n",
       "        text-align: right;\n",
       "    }\n",
       "</style>\n",
       "<table border=\"1\" class=\"dataframe\">\n",
       "  <thead>\n",
       "    <tr style=\"text-align: right;\">\n",
       "      <th></th>\n",
       "      <th>Age</th>\n",
       "      <th>Sex</th>\n",
       "      <th>BP</th>\n",
       "      <th>Cholesterol</th>\n",
       "      <th>Na_to_K</th>\n",
       "      <th>Drug</th>\n",
       "    </tr>\n",
       "  </thead>\n",
       "  <tbody>\n",
       "    <tr>\n",
       "      <th>0</th>\n",
       "      <td>23</td>\n",
       "      <td>F</td>\n",
       "      <td>HIGH</td>\n",
       "      <td>HIGH</td>\n",
       "      <td>25.355</td>\n",
       "      <td>DrugY</td>\n",
       "    </tr>\n",
       "    <tr>\n",
       "      <th>1</th>\n",
       "      <td>47</td>\n",
       "      <td>M</td>\n",
       "      <td>LOW</td>\n",
       "      <td>HIGH</td>\n",
       "      <td>13.093</td>\n",
       "      <td>drugC</td>\n",
       "    </tr>\n",
       "    <tr>\n",
       "      <th>2</th>\n",
       "      <td>47</td>\n",
       "      <td>M</td>\n",
       "      <td>LOW</td>\n",
       "      <td>HIGH</td>\n",
       "      <td>10.114</td>\n",
       "      <td>drugC</td>\n",
       "    </tr>\n",
       "    <tr>\n",
       "      <th>3</th>\n",
       "      <td>28</td>\n",
       "      <td>F</td>\n",
       "      <td>NORMAL</td>\n",
       "      <td>HIGH</td>\n",
       "      <td>7.798</td>\n",
       "      <td>drugX</td>\n",
       "    </tr>\n",
       "    <tr>\n",
       "      <th>4</th>\n",
       "      <td>61</td>\n",
       "      <td>F</td>\n",
       "      <td>LOW</td>\n",
       "      <td>HIGH</td>\n",
       "      <td>18.043</td>\n",
       "      <td>DrugY</td>\n",
       "    </tr>\n",
       "  </tbody>\n",
       "</table>\n",
       "</div>"
      ],
      "text/plain": [
       "   Age Sex      BP Cholesterol  Na_to_K   Drug\n",
       "0   23   F    HIGH        HIGH   25.355  DrugY\n",
       "1   47   M     LOW        HIGH   13.093  drugC\n",
       "2   47   M     LOW        HIGH   10.114  drugC\n",
       "3   28   F  NORMAL        HIGH    7.798  drugX\n",
       "4   61   F     LOW        HIGH   18.043  DrugY"
      ]
     },
     "execution_count": 3,
     "metadata": {},
     "output_type": "execute_result"
    }
   ],
   "source": [
    "dataset = pd.read_csv(\"../input/drug-classification/drug200.csv\")\n",
    "dataset.head()"
   ]
  },
  {
   "cell_type": "markdown",
   "id": "e2c0c867",
   "metadata": {
    "papermill": {
     "duration": 0.007113,
     "end_time": "2022-08-24T20:24:45.353996",
     "exception": false,
     "start_time": "2022-08-24T20:24:45.346883",
     "status": "completed"
    },
    "tags": []
   },
   "source": [
    "#### ***DATA ANALYSIS***"
   ]
  },
  {
   "cell_type": "code",
   "execution_count": 4,
   "id": "6e79f23c",
   "metadata": {
    "execution": {
     "iopub.execute_input": "2022-08-24T20:24:45.370961Z",
     "iopub.status.busy": "2022-08-24T20:24:45.370233Z",
     "iopub.status.idle": "2022-08-24T20:24:45.392468Z",
     "shell.execute_reply": "2022-08-24T20:24:45.391649Z"
    },
    "papermill": {
     "duration": 0.033915,
     "end_time": "2022-08-24T20:24:45.395342",
     "exception": false,
     "start_time": "2022-08-24T20:24:45.361427",
     "status": "completed"
    },
    "tags": []
   },
   "outputs": [
    {
     "name": "stdout",
     "output_type": "stream",
     "text": [
      "<class 'pandas.core.frame.DataFrame'>\n",
      "RangeIndex: 200 entries, 0 to 199\n",
      "Data columns (total 6 columns):\n",
      " #   Column       Non-Null Count  Dtype  \n",
      "---  ------       --------------  -----  \n",
      " 0   Age          200 non-null    int64  \n",
      " 1   Sex          200 non-null    object \n",
      " 2   BP           200 non-null    object \n",
      " 3   Cholesterol  200 non-null    object \n",
      " 4   Na_to_K      200 non-null    float64\n",
      " 5   Drug         200 non-null    object \n",
      "dtypes: float64(1), int64(1), object(4)\n",
      "memory usage: 9.5+ KB\n"
     ]
    }
   ],
   "source": [
    "dataset.info()"
   ]
  },
  {
   "cell_type": "code",
   "execution_count": 5,
   "id": "fdbc7932",
   "metadata": {
    "execution": {
     "iopub.execute_input": "2022-08-24T20:24:45.412612Z",
     "iopub.status.busy": "2022-08-24T20:24:45.411884Z",
     "iopub.status.idle": "2022-08-24T20:24:45.432189Z",
     "shell.execute_reply": "2022-08-24T20:24:45.431185Z"
    },
    "papermill": {
     "duration": 0.031544,
     "end_time": "2022-08-24T20:24:45.434598",
     "exception": false,
     "start_time": "2022-08-24T20:24:45.403054",
     "status": "completed"
    },
    "tags": []
   },
   "outputs": [
    {
     "data": {
      "text/html": [
       "<div>\n",
       "<style scoped>\n",
       "    .dataframe tbody tr th:only-of-type {\n",
       "        vertical-align: middle;\n",
       "    }\n",
       "\n",
       "    .dataframe tbody tr th {\n",
       "        vertical-align: top;\n",
       "    }\n",
       "\n",
       "    .dataframe thead th {\n",
       "        text-align: right;\n",
       "    }\n",
       "</style>\n",
       "<table border=\"1\" class=\"dataframe\">\n",
       "  <thead>\n",
       "    <tr style=\"text-align: right;\">\n",
       "      <th></th>\n",
       "      <th>Age</th>\n",
       "      <th>Na_to_K</th>\n",
       "    </tr>\n",
       "  </thead>\n",
       "  <tbody>\n",
       "    <tr>\n",
       "      <th>count</th>\n",
       "      <td>200.000000</td>\n",
       "      <td>200.000000</td>\n",
       "    </tr>\n",
       "    <tr>\n",
       "      <th>mean</th>\n",
       "      <td>44.315000</td>\n",
       "      <td>16.084485</td>\n",
       "    </tr>\n",
       "    <tr>\n",
       "      <th>std</th>\n",
       "      <td>16.544315</td>\n",
       "      <td>7.223956</td>\n",
       "    </tr>\n",
       "    <tr>\n",
       "      <th>min</th>\n",
       "      <td>15.000000</td>\n",
       "      <td>6.269000</td>\n",
       "    </tr>\n",
       "    <tr>\n",
       "      <th>25%</th>\n",
       "      <td>31.000000</td>\n",
       "      <td>10.445500</td>\n",
       "    </tr>\n",
       "    <tr>\n",
       "      <th>50%</th>\n",
       "      <td>45.000000</td>\n",
       "      <td>13.936500</td>\n",
       "    </tr>\n",
       "    <tr>\n",
       "      <th>75%</th>\n",
       "      <td>58.000000</td>\n",
       "      <td>19.380000</td>\n",
       "    </tr>\n",
       "    <tr>\n",
       "      <th>max</th>\n",
       "      <td>74.000000</td>\n",
       "      <td>38.247000</td>\n",
       "    </tr>\n",
       "  </tbody>\n",
       "</table>\n",
       "</div>"
      ],
      "text/plain": [
       "              Age     Na_to_K\n",
       "count  200.000000  200.000000\n",
       "mean    44.315000   16.084485\n",
       "std     16.544315    7.223956\n",
       "min     15.000000    6.269000\n",
       "25%     31.000000   10.445500\n",
       "50%     45.000000   13.936500\n",
       "75%     58.000000   19.380000\n",
       "max     74.000000   38.247000"
      ]
     },
     "execution_count": 5,
     "metadata": {},
     "output_type": "execute_result"
    }
   ],
   "source": [
    "dataset.describe()"
   ]
  },
  {
   "cell_type": "code",
   "execution_count": 6,
   "id": "7915d49e",
   "metadata": {
    "execution": {
     "iopub.execute_input": "2022-08-24T20:24:45.452986Z",
     "iopub.status.busy": "2022-08-24T20:24:45.452568Z",
     "iopub.status.idle": "2022-08-24T20:24:45.459729Z",
     "shell.execute_reply": "2022-08-24T20:24:45.458578Z"
    },
    "papermill": {
     "duration": 0.018566,
     "end_time": "2022-08-24T20:24:45.461943",
     "exception": false,
     "start_time": "2022-08-24T20:24:45.443377",
     "status": "completed"
    },
    "tags": []
   },
   "outputs": [
    {
     "data": {
      "text/plain": [
       "array(['F', 'M'], dtype=object)"
      ]
     },
     "execution_count": 6,
     "metadata": {},
     "output_type": "execute_result"
    }
   ],
   "source": [
    "dataset[\"Sex\"].unique()"
   ]
  },
  {
   "cell_type": "code",
   "execution_count": 7,
   "id": "db139051",
   "metadata": {
    "execution": {
     "iopub.execute_input": "2022-08-24T20:24:45.479469Z",
     "iopub.status.busy": "2022-08-24T20:24:45.479077Z",
     "iopub.status.idle": "2022-08-24T20:24:45.486644Z",
     "shell.execute_reply": "2022-08-24T20:24:45.485479Z"
    },
    "papermill": {
     "duration": 0.018969,
     "end_time": "2022-08-24T20:24:45.488920",
     "exception": false,
     "start_time": "2022-08-24T20:24:45.469951",
     "status": "completed"
    },
    "tags": []
   },
   "outputs": [
    {
     "data": {
      "text/plain": [
       "array(['HIGH', 'LOW', 'NORMAL'], dtype=object)"
      ]
     },
     "execution_count": 7,
     "metadata": {},
     "output_type": "execute_result"
    }
   ],
   "source": [
    "dataset[\"BP\"].unique()"
   ]
  },
  {
   "cell_type": "code",
   "execution_count": 8,
   "id": "6004b979",
   "metadata": {
    "execution": {
     "iopub.execute_input": "2022-08-24T20:24:45.506650Z",
     "iopub.status.busy": "2022-08-24T20:24:45.506242Z",
     "iopub.status.idle": "2022-08-24T20:24:45.513969Z",
     "shell.execute_reply": "2022-08-24T20:24:45.512772Z"
    },
    "papermill": {
     "duration": 0.019417,
     "end_time": "2022-08-24T20:24:45.516250",
     "exception": false,
     "start_time": "2022-08-24T20:24:45.496833",
     "status": "completed"
    },
    "tags": []
   },
   "outputs": [
    {
     "data": {
      "text/plain": [
       "array(['HIGH', 'NORMAL'], dtype=object)"
      ]
     },
     "execution_count": 8,
     "metadata": {},
     "output_type": "execute_result"
    }
   ],
   "source": [
    "dataset[\"Cholesterol\"].unique()"
   ]
  },
  {
   "cell_type": "code",
   "execution_count": 9,
   "id": "cb78c30f",
   "metadata": {
    "execution": {
     "iopub.execute_input": "2022-08-24T20:24:45.534475Z",
     "iopub.status.busy": "2022-08-24T20:24:45.533660Z",
     "iopub.status.idle": "2022-08-24T20:24:45.540587Z",
     "shell.execute_reply": "2022-08-24T20:24:45.539766Z"
    },
    "papermill": {
     "duration": 0.01845,
     "end_time": "2022-08-24T20:24:45.542874",
     "exception": false,
     "start_time": "2022-08-24T20:24:45.524424",
     "status": "completed"
    },
    "tags": []
   },
   "outputs": [
    {
     "data": {
      "text/plain": [
       "array(['DrugY', 'drugC', 'drugX', 'drugA', 'drugB'], dtype=object)"
      ]
     },
     "execution_count": 9,
     "metadata": {},
     "output_type": "execute_result"
    }
   ],
   "source": [
    "dataset[\"Drug\"].unique()"
   ]
  },
  {
   "cell_type": "markdown",
   "id": "748c0689",
   "metadata": {
    "papermill": {
     "duration": 0.007875,
     "end_time": "2022-08-24T20:24:45.558927",
     "exception": false,
     "start_time": "2022-08-24T20:24:45.551052",
     "status": "completed"
    },
    "tags": []
   },
   "source": [
    "## ***DATA PREPROCESSING***"
   ]
  },
  {
   "cell_type": "markdown",
   "id": "8f630c29",
   "metadata": {
    "papermill": {
     "duration": 0.007748,
     "end_time": "2022-08-24T20:24:45.574722",
     "exception": false,
     "start_time": "2022-08-24T20:24:45.566974",
     "status": "completed"
    },
    "tags": []
   },
   "source": [
    "#### ***ENCODING CATEGORICAL DATA***"
   ]
  },
  {
   "cell_type": "code",
   "execution_count": 10,
   "id": "30f3589c",
   "metadata": {
    "execution": {
     "iopub.execute_input": "2022-08-24T20:24:45.593252Z",
     "iopub.status.busy": "2022-08-24T20:24:45.592864Z",
     "iopub.status.idle": "2022-08-24T20:24:45.601990Z",
     "shell.execute_reply": "2022-08-24T20:24:45.600999Z"
    },
    "papermill": {
     "duration": 0.020999,
     "end_time": "2022-08-24T20:24:45.604327",
     "exception": false,
     "start_time": "2022-08-24T20:24:45.583328",
     "status": "completed"
    },
    "tags": []
   },
   "outputs": [],
   "source": [
    "dataset.replace(to_replace=[\"drugA\", \"drugB\", \"drugC\", \"drugX\", \"DrugY\"], value=[0,1,2,3,4], inplace = True)\n",
    "X = dataset.iloc[:,:-1].values\n",
    "Y = dataset.iloc[:,-1].values"
   ]
  },
  {
   "cell_type": "code",
   "execution_count": 11,
   "id": "53e20610",
   "metadata": {
    "execution": {
     "iopub.execute_input": "2022-08-24T20:24:45.622716Z",
     "iopub.status.busy": "2022-08-24T20:24:45.622304Z",
     "iopub.status.idle": "2022-08-24T20:24:45.627754Z",
     "shell.execute_reply": "2022-08-24T20:24:45.626943Z"
    },
    "papermill": {
     "duration": 0.017403,
     "end_time": "2022-08-24T20:24:45.629943",
     "exception": false,
     "start_time": "2022-08-24T20:24:45.612540",
     "status": "completed"
    },
    "tags": []
   },
   "outputs": [],
   "source": [
    "from sklearn.preprocessing import LabelEncoder\n",
    "le = LabelEncoder()\n",
    "X[:,1] = le.fit_transform(X[:,1])\n",
    "X[:,3] = le.fit_transform(X[:,3])"
   ]
  },
  {
   "cell_type": "code",
   "execution_count": 12,
   "id": "84f72328",
   "metadata": {
    "execution": {
     "iopub.execute_input": "2022-08-24T20:24:45.647941Z",
     "iopub.status.busy": "2022-08-24T20:24:45.647557Z",
     "iopub.status.idle": "2022-08-24T20:24:45.665323Z",
     "shell.execute_reply": "2022-08-24T20:24:45.664300Z"
    },
    "papermill": {
     "duration": 0.029661,
     "end_time": "2022-08-24T20:24:45.667759",
     "exception": false,
     "start_time": "2022-08-24T20:24:45.638098",
     "status": "completed"
    },
    "tags": []
   },
   "outputs": [
    {
     "data": {
      "text/plain": [
       "array([1.0, 0.0, 0.0, 23, 0, 0, 25.355], dtype=object)"
      ]
     },
     "execution_count": 12,
     "metadata": {},
     "output_type": "execute_result"
    }
   ],
   "source": [
    "from sklearn.compose import ColumnTransformer\n",
    "from sklearn.preprocessing import OneHotEncoder\n",
    "ohe = OneHotEncoder()\n",
    "ct = ColumnTransformer(transformers = [('encoder',ohe,[2])], remainder = 'passthrough')\n",
    "X = np.array(ct.fit_transform(X))\n",
    "X[0]"
   ]
  },
  {
   "cell_type": "markdown",
   "id": "2fd3c94c",
   "metadata": {
    "papermill": {
     "duration": 0.00798,
     "end_time": "2022-08-24T20:24:45.684068",
     "exception": false,
     "start_time": "2022-08-24T20:24:45.676088",
     "status": "completed"
    },
    "tags": []
   },
   "source": [
    "#### ***SPLITTING INTO TRAIN AND TEST SET***"
   ]
  },
  {
   "cell_type": "code",
   "execution_count": 13,
   "id": "5687d89b",
   "metadata": {
    "execution": {
     "iopub.execute_input": "2022-08-24T20:24:45.702566Z",
     "iopub.status.busy": "2022-08-24T20:24:45.701850Z",
     "iopub.status.idle": "2022-08-24T20:24:45.721475Z",
     "shell.execute_reply": "2022-08-24T20:24:45.720589Z"
    },
    "papermill": {
     "duration": 0.031997,
     "end_time": "2022-08-24T20:24:45.724217",
     "exception": false,
     "start_time": "2022-08-24T20:24:45.692220",
     "status": "completed"
    },
    "tags": []
   },
   "outputs": [],
   "source": [
    "from sklearn.model_selection import train_test_split\n",
    "X_train,  X_test, Y_train, Y_test = train_test_split(X, Y, test_size = 0.2, random_state = 1)"
   ]
  },
  {
   "cell_type": "markdown",
   "id": "66670aec",
   "metadata": {
    "papermill": {
     "duration": 0.007985,
     "end_time": "2022-08-24T20:24:45.740639",
     "exception": false,
     "start_time": "2022-08-24T20:24:45.732654",
     "status": "completed"
    },
    "tags": []
   },
   "source": [
    "#### ***LOGISTIC REGRESSION***"
   ]
  },
  {
   "cell_type": "code",
   "execution_count": 14,
   "id": "80bb1739",
   "metadata": {
    "execution": {
     "iopub.execute_input": "2022-08-24T20:24:45.759366Z",
     "iopub.status.busy": "2022-08-24T20:24:45.758629Z",
     "iopub.status.idle": "2022-08-24T20:24:45.882377Z",
     "shell.execute_reply": "2022-08-24T20:24:45.881079Z"
    },
    "papermill": {
     "duration": 0.136558,
     "end_time": "2022-08-24T20:24:45.885587",
     "exception": false,
     "start_time": "2022-08-24T20:24:45.749029",
     "status": "completed"
    },
    "tags": []
   },
   "outputs": [
    {
     "name": "stdout",
     "output_type": "stream",
     "text": [
      "Accuracy =  92.5 %\n"
     ]
    },
    {
     "name": "stderr",
     "output_type": "stream",
     "text": [
      "/opt/conda/lib/python3.7/site-packages/sklearn/linear_model/_logistic.py:818: ConvergenceWarning: lbfgs failed to converge (status=1):\n",
      "STOP: TOTAL NO. of ITERATIONS REACHED LIMIT.\n",
      "\n",
      "Increase the number of iterations (max_iter) or scale the data as shown in:\n",
      "    https://scikit-learn.org/stable/modules/preprocessing.html\n",
      "Please also refer to the documentation for alternative solver options:\n",
      "    https://scikit-learn.org/stable/modules/linear_model.html#logistic-regression\n",
      "  extra_warning_msg=_LOGISTIC_SOLVER_CONVERGENCE_MSG,\n"
     ]
    }
   ],
   "source": [
    "from sklearn.linear_model import LogisticRegression\n",
    "classifier = LogisticRegression(random_state = 0)\n",
    "classifier.fit(X_train,Y_train)\n",
    "Y_pred = classifier.predict(X_test)\n",
    "print(\"Accuracy = \",accuracy_score(Y_test, Y_pred)*100,\"%\")"
   ]
  },
  {
   "cell_type": "markdown",
   "id": "e87a1d1f",
   "metadata": {
    "papermill": {
     "duration": 0.008227,
     "end_time": "2022-08-24T20:24:45.902600",
     "exception": false,
     "start_time": "2022-08-24T20:24:45.894373",
     "status": "completed"
    },
    "tags": []
   },
   "source": [
    "#### ***K NEAREST NEIGHBORS***"
   ]
  },
  {
   "cell_type": "code",
   "execution_count": 15,
   "id": "1429040b",
   "metadata": {
    "execution": {
     "iopub.execute_input": "2022-08-24T20:24:45.921660Z",
     "iopub.status.busy": "2022-08-24T20:24:45.921233Z",
     "iopub.status.idle": "2022-08-24T20:24:45.981679Z",
     "shell.execute_reply": "2022-08-24T20:24:45.980363Z"
    },
    "papermill": {
     "duration": 0.073272,
     "end_time": "2022-08-24T20:24:45.984325",
     "exception": false,
     "start_time": "2022-08-24T20:24:45.911053",
     "status": "completed"
    },
    "tags": []
   },
   "outputs": [
    {
     "name": "stdout",
     "output_type": "stream",
     "text": [
      "Accuracy =  72.5 %\n"
     ]
    }
   ],
   "source": [
    "from sklearn.neighbors import KNeighborsClassifier\n",
    "classifier2 = KNeighborsClassifier(n_neighbors = 3, metric = 'minkowski',p=1)\n",
    "classifier2.fit(X_train, Y_train)\n",
    "Y_pred2 = classifier2.predict(X_test)\n",
    "print(\"Accuracy = \",accuracy_score(Y_test, Y_pred2)*100,\"%\")"
   ]
  },
  {
   "cell_type": "markdown",
   "id": "4763a5cf",
   "metadata": {
    "papermill": {
     "duration": 0.008224,
     "end_time": "2022-08-24T20:24:46.001242",
     "exception": false,
     "start_time": "2022-08-24T20:24:45.993018",
     "status": "completed"
    },
    "tags": []
   },
   "source": [
    "#### ***NAIVE BAYES***"
   ]
  },
  {
   "cell_type": "code",
   "execution_count": 16,
   "id": "687b6b2b",
   "metadata": {
    "execution": {
     "iopub.execute_input": "2022-08-24T20:24:46.020503Z",
     "iopub.status.busy": "2022-08-24T20:24:46.020083Z",
     "iopub.status.idle": "2022-08-24T20:24:46.031312Z",
     "shell.execute_reply": "2022-08-24T20:24:46.029973Z"
    },
    "papermill": {
     "duration": 0.023789,
     "end_time": "2022-08-24T20:24:46.033772",
     "exception": false,
     "start_time": "2022-08-24T20:24:46.009983",
     "status": "completed"
    },
    "tags": []
   },
   "outputs": [
    {
     "name": "stdout",
     "output_type": "stream",
     "text": [
      "Accuracy =  75.0 %\n"
     ]
    }
   ],
   "source": [
    "from sklearn.naive_bayes import GaussianNB\n",
    "classifier3 = GaussianNB()\n",
    "classifier3.fit(X_train, Y_train)\n",
    "Y_pred3 = classifier3.predict(X_test)\n",
    "print(\"Accuracy = \",accuracy_score(Y_test, Y_pred3)*100,\"%\")"
   ]
  },
  {
   "cell_type": "markdown",
   "id": "888e67de",
   "metadata": {
    "papermill": {
     "duration": 0.008301,
     "end_time": "2022-08-24T20:24:46.050748",
     "exception": false,
     "start_time": "2022-08-24T20:24:46.042447",
     "status": "completed"
    },
    "tags": []
   },
   "source": [
    "#### ***DECISION TREE***"
   ]
  },
  {
   "cell_type": "code",
   "execution_count": 17,
   "id": "8f1f0f12",
   "metadata": {
    "execution": {
     "iopub.execute_input": "2022-08-24T20:24:46.070358Z",
     "iopub.status.busy": "2022-08-24T20:24:46.069246Z",
     "iopub.status.idle": "2022-08-24T20:24:46.110660Z",
     "shell.execute_reply": "2022-08-24T20:24:46.108981Z"
    },
    "papermill": {
     "duration": 0.054121,
     "end_time": "2022-08-24T20:24:46.113550",
     "exception": false,
     "start_time": "2022-08-24T20:24:46.059429",
     "status": "completed"
    },
    "tags": []
   },
   "outputs": [
    {
     "name": "stdout",
     "output_type": "stream",
     "text": [
      "Accuracy =  100.0 %\n"
     ]
    }
   ],
   "source": [
    "from sklearn.tree import DecisionTreeClassifier\n",
    "classifier4 = DecisionTreeClassifier(criterion = 'entropy', random_state = 0)\n",
    "classifier4.fit(X_train, Y_train)\n",
    "Y_pred4 = classifier4.predict(X_test)\n",
    "print(\"Accuracy = \",accuracy_score(Y_test, Y_pred4)*100,\"%\")"
   ]
  },
  {
   "cell_type": "markdown",
   "id": "5fa00f51",
   "metadata": {
    "papermill": {
     "duration": 0.008468,
     "end_time": "2022-08-24T20:24:46.130943",
     "exception": false,
     "start_time": "2022-08-24T20:24:46.122475",
     "status": "completed"
    },
    "tags": []
   },
   "source": [
    "#### ***RANDOM FOREST***"
   ]
  },
  {
   "cell_type": "code",
   "execution_count": 18,
   "id": "188109ca",
   "metadata": {
    "execution": {
     "iopub.execute_input": "2022-08-24T20:24:46.149911Z",
     "iopub.status.busy": "2022-08-24T20:24:46.149479Z",
     "iopub.status.idle": "2022-08-24T20:24:46.410182Z",
     "shell.execute_reply": "2022-08-24T20:24:46.408664Z"
    },
    "papermill": {
     "duration": 0.273627,
     "end_time": "2022-08-24T20:24:46.413215",
     "exception": false,
     "start_time": "2022-08-24T20:24:46.139588",
     "status": "completed"
    },
    "tags": []
   },
   "outputs": [
    {
     "name": "stdout",
     "output_type": "stream",
     "text": [
      "Accuracy =  100.0 %\n"
     ]
    }
   ],
   "source": [
    "from sklearn.ensemble import RandomForestClassifier\n",
    "classifier5 = RandomForestClassifier(n_estimators = 10, criterion = 'entropy', random_state=0)\n",
    "classifier5.fit(X_train, Y_train)\n",
    "Y_pred5 = classifier5.predict(X_test)\n",
    "print(\"Accuracy = \",accuracy_score(Y_test, Y_pred4)*100,\"%\")"
   ]
  },
  {
   "cell_type": "markdown",
   "id": "79ae0f4f",
   "metadata": {
    "papermill": {
     "duration": 0.008424,
     "end_time": "2022-08-24T20:24:46.430646",
     "exception": false,
     "start_time": "2022-08-24T20:24:46.422222",
     "status": "completed"
    },
    "tags": []
   },
   "source": [
    "#### ***XGBOOST CLASSIFIER***"
   ]
  },
  {
   "cell_type": "code",
   "execution_count": 19,
   "id": "d1c604db",
   "metadata": {
    "execution": {
     "iopub.execute_input": "2022-08-24T20:24:46.450315Z",
     "iopub.status.busy": "2022-08-24T20:24:46.449557Z",
     "iopub.status.idle": "2022-08-24T20:24:47.054860Z",
     "shell.execute_reply": "2022-08-24T20:24:47.053902Z"
    },
    "papermill": {
     "duration": 0.618352,
     "end_time": "2022-08-24T20:24:47.057764",
     "exception": false,
     "start_time": "2022-08-24T20:24:46.439412",
     "status": "completed"
    },
    "tags": []
   },
   "outputs": [
    {
     "name": "stdout",
     "output_type": "stream",
     "text": [
      "Accuracy =  100.0 %\n"
     ]
    }
   ],
   "source": [
    "from xgboost import XGBClassifier\n",
    "classifier_xg = XGBClassifier()\n",
    "classifier_xg.fit(X_train, Y_train)\n",
    "Y_predxg = classifier_xg.predict(X_test)\n",
    "print(\"Accuracy = \",accuracy_score(Y_test, Y_predxg)*100,\"%\")"
   ]
  },
  {
   "cell_type": "markdown",
   "id": "e027fc42",
   "metadata": {
    "papermill": {
     "duration": 0.008556,
     "end_time": "2022-08-24T20:24:47.076961",
     "exception": false,
     "start_time": "2022-08-24T20:24:47.068405",
     "status": "completed"
    },
    "tags": []
   },
   "source": [
    "#### ***CATBOOST CLASSIFIER***"
   ]
  },
  {
   "cell_type": "code",
   "execution_count": 20,
   "id": "94142449",
   "metadata": {
    "execution": {
     "iopub.execute_input": "2022-08-24T20:24:47.096887Z",
     "iopub.status.busy": "2022-08-24T20:24:47.096180Z",
     "iopub.status.idle": "2022-08-24T20:24:49.025283Z",
     "shell.execute_reply": "2022-08-24T20:24:49.023744Z"
    },
    "papermill": {
     "duration": 1.94219,
     "end_time": "2022-08-24T20:24:49.028116",
     "exception": false,
     "start_time": "2022-08-24T20:24:47.085926",
     "status": "completed"
    },
    "tags": []
   },
   "outputs": [
    {
     "name": "stdout",
     "output_type": "stream",
     "text": [
      "Learning rate set to 0.072066\n",
      "0:\tlearn: 1.5283650\ttotal: 57.1ms\tremaining: 57s\n",
      "1:\tlearn: 1.4615819\ttotal: 58.4ms\tremaining: 29.2s\n",
      "2:\tlearn: 1.3703709\ttotal: 59.7ms\tremaining: 19.9s\n",
      "3:\tlearn: 1.2947068\ttotal: 61.2ms\tremaining: 15.2s\n",
      "4:\tlearn: 1.2248794\ttotal: 62.6ms\tremaining: 12.5s\n",
      "5:\tlearn: 1.1807769\ttotal: 64.1ms\tremaining: 10.6s\n",
      "6:\tlearn: 1.1268592\ttotal: 65.4ms\tremaining: 9.28s\n",
      "7:\tlearn: 1.0690149\ttotal: 66.2ms\tremaining: 8.21s\n",
      "8:\tlearn: 1.0154770\ttotal: 67.7ms\tremaining: 7.45s\n",
      "9:\tlearn: 0.9732376\ttotal: 68.8ms\tremaining: 6.81s\n",
      "10:\tlearn: 0.9150489\ttotal: 69.6ms\tremaining: 6.26s\n",
      "11:\tlearn: 0.8797876\ttotal: 71ms\tremaining: 5.84s\n",
      "12:\tlearn: 0.8494388\ttotal: 72ms\tremaining: 5.47s\n",
      "13:\tlearn: 0.8200963\ttotal: 73.4ms\tremaining: 5.17s\n",
      "14:\tlearn: 0.7774406\ttotal: 74.3ms\tremaining: 4.88s\n",
      "15:\tlearn: 0.7477258\ttotal: 75.6ms\tremaining: 4.65s\n",
      "16:\tlearn: 0.7191864\ttotal: 76.9ms\tremaining: 4.45s\n",
      "17:\tlearn: 0.6929689\ttotal: 78.1ms\tremaining: 4.26s\n",
      "18:\tlearn: 0.6664878\ttotal: 79.5ms\tremaining: 4.1s\n",
      "19:\tlearn: 0.6386159\ttotal: 80.8ms\tremaining: 3.96s\n",
      "20:\tlearn: 0.6206685\ttotal: 82.1ms\tremaining: 3.83s\n",
      "21:\tlearn: 0.5971535\ttotal: 83.5ms\tremaining: 3.71s\n",
      "22:\tlearn: 0.5745894\ttotal: 84.8ms\tremaining: 3.6s\n",
      "23:\tlearn: 0.5544916\ttotal: 86.2ms\tremaining: 3.5s\n",
      "24:\tlearn: 0.5370689\ttotal: 87.5ms\tremaining: 3.41s\n",
      "25:\tlearn: 0.5184572\ttotal: 88.9ms\tremaining: 3.33s\n",
      "26:\tlearn: 0.4980554\ttotal: 89.7ms\tremaining: 3.23s\n",
      "27:\tlearn: 0.4819236\ttotal: 91.1ms\tremaining: 3.16s\n",
      "28:\tlearn: 0.4602437\ttotal: 91.4ms\tremaining: 3.06s\n",
      "29:\tlearn: 0.4482473\ttotal: 92.8ms\tremaining: 3s\n",
      "30:\tlearn: 0.4332096\ttotal: 93.6ms\tremaining: 2.93s\n",
      "31:\tlearn: 0.4161457\ttotal: 94.4ms\tremaining: 2.85s\n",
      "32:\tlearn: 0.4041664\ttotal: 95.7ms\tremaining: 2.8s\n",
      "33:\tlearn: 0.3956231\ttotal: 96.9ms\tremaining: 2.75s\n",
      "34:\tlearn: 0.3867406\ttotal: 98.3ms\tremaining: 2.71s\n",
      "35:\tlearn: 0.3743542\ttotal: 100ms\tremaining: 2.68s\n",
      "36:\tlearn: 0.3643722\ttotal: 101ms\tremaining: 2.64s\n",
      "37:\tlearn: 0.3541669\ttotal: 103ms\tremaining: 2.6s\n",
      "38:\tlearn: 0.3422208\ttotal: 104ms\tremaining: 2.56s\n",
      "39:\tlearn: 0.3309245\ttotal: 105ms\tremaining: 2.52s\n",
      "40:\tlearn: 0.3242531\ttotal: 106ms\tremaining: 2.49s\n",
      "41:\tlearn: 0.3164838\ttotal: 108ms\tremaining: 2.46s\n",
      "42:\tlearn: 0.3085817\ttotal: 109ms\tremaining: 2.43s\n",
      "43:\tlearn: 0.3019038\ttotal: 110ms\tremaining: 2.4s\n",
      "44:\tlearn: 0.2942550\ttotal: 112ms\tremaining: 2.37s\n",
      "45:\tlearn: 0.2870084\ttotal: 113ms\tremaining: 2.34s\n",
      "46:\tlearn: 0.2803161\ttotal: 114ms\tremaining: 2.32s\n",
      "47:\tlearn: 0.2741666\ttotal: 115ms\tremaining: 2.29s\n",
      "48:\tlearn: 0.2684962\ttotal: 117ms\tremaining: 2.27s\n",
      "49:\tlearn: 0.2626670\ttotal: 118ms\tremaining: 2.24s\n",
      "50:\tlearn: 0.2574512\ttotal: 119ms\tremaining: 2.22s\n",
      "51:\tlearn: 0.2513086\ttotal: 121ms\tremaining: 2.2s\n",
      "52:\tlearn: 0.2455159\ttotal: 122ms\tremaining: 2.18s\n",
      "53:\tlearn: 0.2408225\ttotal: 124ms\tremaining: 2.17s\n",
      "54:\tlearn: 0.2361005\ttotal: 125ms\tremaining: 2.15s\n",
      "55:\tlearn: 0.2295402\ttotal: 127ms\tremaining: 2.13s\n",
      "56:\tlearn: 0.2246997\ttotal: 128ms\tremaining: 2.11s\n",
      "57:\tlearn: 0.2197878\ttotal: 129ms\tremaining: 2.1s\n",
      "58:\tlearn: 0.2140168\ttotal: 130ms\tremaining: 2.08s\n",
      "59:\tlearn: 0.2101224\ttotal: 132ms\tremaining: 2.06s\n",
      "60:\tlearn: 0.2055530\ttotal: 133ms\tremaining: 2.05s\n",
      "61:\tlearn: 0.2009162\ttotal: 134ms\tremaining: 2.03s\n",
      "62:\tlearn: 0.1970376\ttotal: 136ms\tremaining: 2.02s\n",
      "63:\tlearn: 0.1940518\ttotal: 137ms\tremaining: 2s\n",
      "64:\tlearn: 0.1905241\ttotal: 138ms\tremaining: 1.99s\n",
      "65:\tlearn: 0.1867909\ttotal: 140ms\tremaining: 1.98s\n",
      "66:\tlearn: 0.1815102\ttotal: 141ms\tremaining: 1.97s\n",
      "67:\tlearn: 0.1783592\ttotal: 142ms\tremaining: 1.95s\n",
      "68:\tlearn: 0.1755011\ttotal: 144ms\tremaining: 1.94s\n",
      "69:\tlearn: 0.1726675\ttotal: 145ms\tremaining: 1.93s\n",
      "70:\tlearn: 0.1686807\ttotal: 147ms\tremaining: 1.92s\n",
      "71:\tlearn: 0.1652256\ttotal: 148ms\tremaining: 1.9s\n",
      "72:\tlearn: 0.1622530\ttotal: 149ms\tremaining: 1.89s\n",
      "73:\tlearn: 0.1590897\ttotal: 150ms\tremaining: 1.88s\n",
      "74:\tlearn: 0.1560924\ttotal: 152ms\tremaining: 1.87s\n",
      "75:\tlearn: 0.1529804\ttotal: 153ms\tremaining: 1.86s\n",
      "76:\tlearn: 0.1495070\ttotal: 154ms\tremaining: 1.85s\n",
      "77:\tlearn: 0.1472091\ttotal: 156ms\tremaining: 1.84s\n",
      "78:\tlearn: 0.1445850\ttotal: 157ms\tremaining: 1.83s\n",
      "79:\tlearn: 0.1422591\ttotal: 159ms\tremaining: 1.82s\n",
      "80:\tlearn: 0.1396104\ttotal: 160ms\tremaining: 1.81s\n",
      "81:\tlearn: 0.1363454\ttotal: 161ms\tremaining: 1.8s\n",
      "82:\tlearn: 0.1340834\ttotal: 162ms\tremaining: 1.79s\n",
      "83:\tlearn: 0.1320899\ttotal: 164ms\tremaining: 1.78s\n",
      "84:\tlearn: 0.1297087\ttotal: 165ms\tremaining: 1.78s\n",
      "85:\tlearn: 0.1275365\ttotal: 167ms\tremaining: 1.77s\n",
      "86:\tlearn: 0.1259529\ttotal: 168ms\tremaining: 1.76s\n",
      "87:\tlearn: 0.1242524\ttotal: 169ms\tremaining: 1.75s\n",
      "88:\tlearn: 0.1222353\ttotal: 171ms\tremaining: 1.75s\n",
      "89:\tlearn: 0.1205379\ttotal: 172ms\tremaining: 1.74s\n",
      "90:\tlearn: 0.1189147\ttotal: 173ms\tremaining: 1.73s\n",
      "91:\tlearn: 0.1168734\ttotal: 175ms\tremaining: 1.72s\n",
      "92:\tlearn: 0.1153219\ttotal: 176ms\tremaining: 1.72s\n",
      "93:\tlearn: 0.1136243\ttotal: 177ms\tremaining: 1.71s\n",
      "94:\tlearn: 0.1121399\ttotal: 179ms\tremaining: 1.7s\n",
      "95:\tlearn: 0.1106765\ttotal: 180ms\tremaining: 1.69s\n",
      "96:\tlearn: 0.1091850\ttotal: 181ms\tremaining: 1.69s\n",
      "97:\tlearn: 0.1079416\ttotal: 183ms\tremaining: 1.68s\n",
      "98:\tlearn: 0.1061486\ttotal: 184ms\tremaining: 1.68s\n",
      "99:\tlearn: 0.1046209\ttotal: 186ms\tremaining: 1.68s\n",
      "100:\tlearn: 0.1032080\ttotal: 188ms\tremaining: 1.67s\n",
      "101:\tlearn: 0.1017107\ttotal: 189ms\tremaining: 1.67s\n",
      "102:\tlearn: 0.1002271\ttotal: 191ms\tremaining: 1.66s\n",
      "103:\tlearn: 0.0988522\ttotal: 192ms\tremaining: 1.66s\n",
      "104:\tlearn: 0.0972723\ttotal: 194ms\tremaining: 1.65s\n",
      "105:\tlearn: 0.0960731\ttotal: 196ms\tremaining: 1.65s\n",
      "106:\tlearn: 0.0949343\ttotal: 197ms\tremaining: 1.65s\n",
      "107:\tlearn: 0.0937793\ttotal: 198ms\tremaining: 1.64s\n",
      "108:\tlearn: 0.0926889\ttotal: 200ms\tremaining: 1.63s\n",
      "109:\tlearn: 0.0914836\ttotal: 201ms\tremaining: 1.63s\n",
      "110:\tlearn: 0.0904004\ttotal: 202ms\tremaining: 1.62s\n",
      "111:\tlearn: 0.0893251\ttotal: 203ms\tremaining: 1.61s\n",
      "112:\tlearn: 0.0882806\ttotal: 204ms\tremaining: 1.6s\n",
      "113:\tlearn: 0.0871321\ttotal: 206ms\tremaining: 1.6s\n",
      "114:\tlearn: 0.0861098\ttotal: 207ms\tremaining: 1.59s\n",
      "115:\tlearn: 0.0844476\ttotal: 207ms\tremaining: 1.58s\n",
      "116:\tlearn: 0.0834835\ttotal: 209ms\tremaining: 1.57s\n",
      "117:\tlearn: 0.0824723\ttotal: 210ms\tremaining: 1.57s\n",
      "118:\tlearn: 0.0815214\ttotal: 212ms\tremaining: 1.57s\n",
      "119:\tlearn: 0.0806184\ttotal: 213ms\tremaining: 1.56s\n",
      "120:\tlearn: 0.0797444\ttotal: 214ms\tremaining: 1.55s\n",
      "121:\tlearn: 0.0789091\ttotal: 215ms\tremaining: 1.55s\n",
      "122:\tlearn: 0.0780327\ttotal: 216ms\tremaining: 1.54s\n",
      "123:\tlearn: 0.0771524\ttotal: 217ms\tremaining: 1.54s\n",
      "124:\tlearn: 0.0762911\ttotal: 219ms\tremaining: 1.53s\n",
      "125:\tlearn: 0.0755297\ttotal: 220ms\tremaining: 1.52s\n",
      "126:\tlearn: 0.0748069\ttotal: 221ms\tremaining: 1.52s\n",
      "127:\tlearn: 0.0738644\ttotal: 222ms\tremaining: 1.51s\n",
      "128:\tlearn: 0.0731089\ttotal: 224ms\tremaining: 1.51s\n",
      "129:\tlearn: 0.0724378\ttotal: 225ms\tremaining: 1.51s\n",
      "130:\tlearn: 0.0716656\ttotal: 226ms\tremaining: 1.5s\n",
      "131:\tlearn: 0.0707960\ttotal: 227ms\tremaining: 1.49s\n",
      "132:\tlearn: 0.0701131\ttotal: 228ms\tremaining: 1.49s\n",
      "133:\tlearn: 0.0694821\ttotal: 230ms\tremaining: 1.49s\n",
      "134:\tlearn: 0.0687049\ttotal: 231ms\tremaining: 1.48s\n",
      "135:\tlearn: 0.0679790\ttotal: 232ms\tremaining: 1.48s\n",
      "136:\tlearn: 0.0673416\ttotal: 234ms\tremaining: 1.47s\n",
      "137:\tlearn: 0.0666224\ttotal: 235ms\tremaining: 1.47s\n",
      "138:\tlearn: 0.0660303\ttotal: 236ms\tremaining: 1.46s\n",
      "139:\tlearn: 0.0654283\ttotal: 238ms\tremaining: 1.46s\n",
      "140:\tlearn: 0.0647134\ttotal: 239ms\tremaining: 1.46s\n",
      "141:\tlearn: 0.0641173\ttotal: 240ms\tremaining: 1.45s\n",
      "142:\tlearn: 0.0635182\ttotal: 241ms\tremaining: 1.45s\n",
      "143:\tlearn: 0.0629517\ttotal: 242ms\tremaining: 1.44s\n",
      "144:\tlearn: 0.0623695\ttotal: 243ms\tremaining: 1.43s\n",
      "145:\tlearn: 0.0617622\ttotal: 245ms\tremaining: 1.43s\n",
      "146:\tlearn: 0.0612608\ttotal: 246ms\tremaining: 1.43s\n",
      "147:\tlearn: 0.0607760\ttotal: 248ms\tremaining: 1.43s\n",
      "148:\tlearn: 0.0601438\ttotal: 249ms\tremaining: 1.42s\n",
      "149:\tlearn: 0.0596234\ttotal: 250ms\tremaining: 1.42s\n",
      "150:\tlearn: 0.0591371\ttotal: 251ms\tremaining: 1.41s\n",
      "151:\tlearn: 0.0586244\ttotal: 253ms\tremaining: 1.41s\n",
      "152:\tlearn: 0.0580980\ttotal: 254ms\tremaining: 1.41s\n",
      "153:\tlearn: 0.0576509\ttotal: 255ms\tremaining: 1.4s\n",
      "154:\tlearn: 0.0571259\ttotal: 257ms\tremaining: 1.4s\n",
      "155:\tlearn: 0.0565619\ttotal: 258ms\tremaining: 1.4s\n",
      "156:\tlearn: 0.0561209\ttotal: 260ms\tremaining: 1.39s\n",
      "157:\tlearn: 0.0555983\ttotal: 261ms\tremaining: 1.39s\n",
      "158:\tlearn: 0.0551001\ttotal: 262ms\tremaining: 1.39s\n",
      "159:\tlearn: 0.0546700\ttotal: 264ms\tremaining: 1.38s\n",
      "160:\tlearn: 0.0541947\ttotal: 265ms\tremaining: 1.38s\n",
      "161:\tlearn: 0.0537877\ttotal: 266ms\tremaining: 1.38s\n",
      "162:\tlearn: 0.0533460\ttotal: 267ms\tremaining: 1.37s\n",
      "163:\tlearn: 0.0528968\ttotal: 269ms\tremaining: 1.37s\n",
      "164:\tlearn: 0.0524834\ttotal: 270ms\tremaining: 1.37s\n",
      "165:\tlearn: 0.0520778\ttotal: 271ms\tremaining: 1.36s\n",
      "166:\tlearn: 0.0516796\ttotal: 273ms\tremaining: 1.36s\n",
      "167:\tlearn: 0.0512368\ttotal: 274ms\tremaining: 1.36s\n",
      "168:\tlearn: 0.0508330\ttotal: 275ms\tremaining: 1.35s\n",
      "169:\tlearn: 0.0504368\ttotal: 276ms\tremaining: 1.35s\n",
      "170:\tlearn: 0.0500863\ttotal: 278ms\tremaining: 1.35s\n",
      "171:\tlearn: 0.0497065\ttotal: 279ms\tremaining: 1.34s\n",
      "172:\tlearn: 0.0490416\ttotal: 280ms\tremaining: 1.34s\n",
      "173:\tlearn: 0.0486709\ttotal: 281ms\tremaining: 1.33s\n",
      "174:\tlearn: 0.0482893\ttotal: 282ms\tremaining: 1.33s\n",
      "175:\tlearn: 0.0479454\ttotal: 284ms\tremaining: 1.33s\n",
      "176:\tlearn: 0.0476050\ttotal: 285ms\tremaining: 1.32s\n",
      "177:\tlearn: 0.0470778\ttotal: 286ms\tremaining: 1.32s\n",
      "178:\tlearn: 0.0467692\ttotal: 288ms\tremaining: 1.32s\n",
      "179:\tlearn: 0.0464294\ttotal: 289ms\tremaining: 1.32s\n",
      "180:\tlearn: 0.0460956\ttotal: 290ms\tremaining: 1.31s\n",
      "181:\tlearn: 0.0457823\ttotal: 292ms\tremaining: 1.31s\n",
      "182:\tlearn: 0.0454697\ttotal: 293ms\tremaining: 1.31s\n",
      "183:\tlearn: 0.0451524\ttotal: 295ms\tremaining: 1.31s\n",
      "184:\tlearn: 0.0448696\ttotal: 296ms\tremaining: 1.3s\n",
      "185:\tlearn: 0.0445617\ttotal: 297ms\tremaining: 1.3s\n",
      "186:\tlearn: 0.0442060\ttotal: 298ms\tremaining: 1.3s\n",
      "187:\tlearn: 0.0439366\ttotal: 300ms\tremaining: 1.29s\n",
      "188:\tlearn: 0.0436295\ttotal: 301ms\tremaining: 1.29s\n",
      "189:\tlearn: 0.0433436\ttotal: 302ms\tremaining: 1.29s\n",
      "190:\tlearn: 0.0430786\ttotal: 304ms\tremaining: 1.29s\n",
      "191:\tlearn: 0.0428055\ttotal: 305ms\tremaining: 1.28s\n",
      "192:\tlearn: 0.0425289\ttotal: 306ms\tremaining: 1.28s\n",
      "193:\tlearn: 0.0422614\ttotal: 308ms\tremaining: 1.28s\n",
      "194:\tlearn: 0.0419686\ttotal: 309ms\tremaining: 1.27s\n",
      "195:\tlearn: 0.0417127\ttotal: 310ms\tremaining: 1.27s\n",
      "196:\tlearn: 0.0414633\ttotal: 311ms\tremaining: 1.27s\n",
      "197:\tlearn: 0.0411964\ttotal: 313ms\tremaining: 1.27s\n",
      "198:\tlearn: 0.0409329\ttotal: 314ms\tremaining: 1.26s\n",
      "199:\tlearn: 0.0406748\ttotal: 315ms\tremaining: 1.26s\n",
      "200:\tlearn: 0.0404395\ttotal: 317ms\tremaining: 1.26s\n",
      "201:\tlearn: 0.0401697\ttotal: 318ms\tremaining: 1.26s\n",
      "202:\tlearn: 0.0398857\ttotal: 319ms\tremaining: 1.25s\n",
      "203:\tlearn: 0.0396463\ttotal: 321ms\tremaining: 1.25s\n",
      "204:\tlearn: 0.0394080\ttotal: 322ms\tremaining: 1.25s\n",
      "205:\tlearn: 0.0391513\ttotal: 324ms\tremaining: 1.25s\n",
      "206:\tlearn: 0.0389314\ttotal: 325ms\tremaining: 1.25s\n",
      "207:\tlearn: 0.0386911\ttotal: 327ms\tremaining: 1.24s\n",
      "208:\tlearn: 0.0384748\ttotal: 328ms\tremaining: 1.24s\n",
      "209:\tlearn: 0.0382205\ttotal: 329ms\tremaining: 1.24s\n",
      "210:\tlearn: 0.0379855\ttotal: 331ms\tremaining: 1.24s\n",
      "211:\tlearn: 0.0377463\ttotal: 332ms\tremaining: 1.23s\n",
      "212:\tlearn: 0.0375268\ttotal: 333ms\tremaining: 1.23s\n",
      "213:\tlearn: 0.0372933\ttotal: 334ms\tremaining: 1.23s\n",
      "214:\tlearn: 0.0370693\ttotal: 336ms\tremaining: 1.23s\n",
      "215:\tlearn: 0.0368645\ttotal: 337ms\tremaining: 1.22s\n",
      "216:\tlearn: 0.0366486\ttotal: 338ms\tremaining: 1.22s\n",
      "217:\tlearn: 0.0364470\ttotal: 339ms\tremaining: 1.22s\n",
      "218:\tlearn: 0.0362380\ttotal: 341ms\tremaining: 1.22s\n",
      "219:\tlearn: 0.0359990\ttotal: 342ms\tremaining: 1.21s\n",
      "220:\tlearn: 0.0358138\ttotal: 343ms\tremaining: 1.21s\n",
      "221:\tlearn: 0.0356332\ttotal: 345ms\tremaining: 1.21s\n",
      "222:\tlearn: 0.0354327\ttotal: 346ms\tremaining: 1.21s\n",
      "223:\tlearn: 0.0352362\ttotal: 348ms\tremaining: 1.2s\n",
      "224:\tlearn: 0.0350096\ttotal: 349ms\tremaining: 1.2s\n",
      "225:\tlearn: 0.0347947\ttotal: 350ms\tremaining: 1.2s\n",
      "226:\tlearn: 0.0346048\ttotal: 351ms\tremaining: 1.2s\n",
      "227:\tlearn: 0.0344152\ttotal: 352ms\tremaining: 1.19s\n",
      "228:\tlearn: 0.0341821\ttotal: 353ms\tremaining: 1.19s\n",
      "229:\tlearn: 0.0339956\ttotal: 355ms\tremaining: 1.19s\n",
      "230:\tlearn: 0.0337851\ttotal: 356ms\tremaining: 1.19s\n",
      "231:\tlearn: 0.0336020\ttotal: 357ms\tremaining: 1.18s\n",
      "232:\tlearn: 0.0334410\ttotal: 358ms\tremaining: 1.18s\n",
      "233:\tlearn: 0.0332768\ttotal: 360ms\tremaining: 1.18s\n",
      "234:\tlearn: 0.0330850\ttotal: 361ms\tremaining: 1.18s\n",
      "235:\tlearn: 0.0329243\ttotal: 363ms\tremaining: 1.17s\n",
      "236:\tlearn: 0.0327441\ttotal: 364ms\tremaining: 1.17s\n",
      "237:\tlearn: 0.0325704\ttotal: 365ms\tremaining: 1.17s\n",
      "238:\tlearn: 0.0323900\ttotal: 367ms\tremaining: 1.17s\n",
      "239:\tlearn: 0.0322060\ttotal: 368ms\tremaining: 1.17s\n",
      "240:\tlearn: 0.0320488\ttotal: 369ms\tremaining: 1.16s\n",
      "241:\tlearn: 0.0318986\ttotal: 371ms\tremaining: 1.16s\n",
      "242:\tlearn: 0.0317446\ttotal: 373ms\tremaining: 1.16s\n",
      "243:\tlearn: 0.0315836\ttotal: 374ms\tremaining: 1.16s\n",
      "244:\tlearn: 0.0314245\ttotal: 376ms\tremaining: 1.16s\n",
      "245:\tlearn: 0.0312792\ttotal: 377ms\tremaining: 1.16s\n",
      "246:\tlearn: 0.0311146\ttotal: 379ms\tremaining: 1.16s\n",
      "247:\tlearn: 0.0309646\ttotal: 381ms\tremaining: 1.15s\n",
      "248:\tlearn: 0.0308096\ttotal: 382ms\tremaining: 1.15s\n",
      "249:\tlearn: 0.0306629\ttotal: 383ms\tremaining: 1.15s\n",
      "250:\tlearn: 0.0305036\ttotal: 385ms\tremaining: 1.15s\n",
      "251:\tlearn: 0.0303572\ttotal: 386ms\tremaining: 1.15s\n",
      "252:\tlearn: 0.0301935\ttotal: 387ms\tremaining: 1.14s\n",
      "253:\tlearn: 0.0300260\ttotal: 388ms\tremaining: 1.14s\n",
      "254:\tlearn: 0.0298869\ttotal: 390ms\tremaining: 1.14s\n",
      "255:\tlearn: 0.0297273\ttotal: 391ms\tremaining: 1.14s\n",
      "256:\tlearn: 0.0295718\ttotal: 392ms\tremaining: 1.13s\n",
      "257:\tlearn: 0.0294378\ttotal: 393ms\tremaining: 1.13s\n",
      "258:\tlearn: 0.0293101\ttotal: 394ms\tremaining: 1.13s\n",
      "259:\tlearn: 0.0291685\ttotal: 395ms\tremaining: 1.13s\n",
      "260:\tlearn: 0.0290167\ttotal: 397ms\tremaining: 1.12s\n",
      "261:\tlearn: 0.0288684\ttotal: 398ms\tremaining: 1.12s\n",
      "262:\tlearn: 0.0287395\ttotal: 399ms\tremaining: 1.12s\n",
      "263:\tlearn: 0.0285989\ttotal: 401ms\tremaining: 1.12s\n",
      "264:\tlearn: 0.0284598\ttotal: 402ms\tremaining: 1.11s\n",
      "265:\tlearn: 0.0283282\ttotal: 404ms\tremaining: 1.11s\n",
      "266:\tlearn: 0.0281849\ttotal: 405ms\tremaining: 1.11s\n",
      "267:\tlearn: 0.0280497\ttotal: 406ms\tremaining: 1.11s\n",
      "268:\tlearn: 0.0279267\ttotal: 407ms\tremaining: 1.11s\n",
      "269:\tlearn: 0.0277980\ttotal: 409ms\tremaining: 1.1s\n",
      "270:\tlearn: 0.0276703\ttotal: 410ms\tremaining: 1.1s\n",
      "271:\tlearn: 0.0275569\ttotal: 411ms\tremaining: 1.1s\n",
      "272:\tlearn: 0.0274377\ttotal: 413ms\tremaining: 1.1s\n",
      "273:\tlearn: 0.0273056\ttotal: 414ms\tremaining: 1.1s\n",
      "274:\tlearn: 0.0271714\ttotal: 416ms\tremaining: 1.09s\n",
      "275:\tlearn: 0.0270511\ttotal: 417ms\tremaining: 1.09s\n",
      "276:\tlearn: 0.0269262\ttotal: 418ms\tremaining: 1.09s\n",
      "277:\tlearn: 0.0268145\ttotal: 419ms\tremaining: 1.09s\n",
      "278:\tlearn: 0.0267062\ttotal: 420ms\tremaining: 1.09s\n",
      "279:\tlearn: 0.0265779\ttotal: 422ms\tremaining: 1.08s\n",
      "280:\tlearn: 0.0264593\ttotal: 423ms\tremaining: 1.08s\n",
      "281:\tlearn: 0.0262396\ttotal: 424ms\tremaining: 1.08s\n",
      "282:\tlearn: 0.0261218\ttotal: 425ms\tremaining: 1.07s\n",
      "283:\tlearn: 0.0259888\ttotal: 426ms\tremaining: 1.07s\n",
      "284:\tlearn: 0.0258843\ttotal: 427ms\tremaining: 1.07s\n",
      "285:\tlearn: 0.0257639\ttotal: 428ms\tremaining: 1.07s\n",
      "286:\tlearn: 0.0256584\ttotal: 430ms\tremaining: 1.07s\n",
      "287:\tlearn: 0.0255507\ttotal: 430ms\tremaining: 1.06s\n",
      "288:\tlearn: 0.0254439\ttotal: 432ms\tremaining: 1.06s\n",
      "289:\tlearn: 0.0253311\ttotal: 433ms\tremaining: 1.06s\n",
      "290:\tlearn: 0.0252095\ttotal: 435ms\tremaining: 1.06s\n",
      "291:\tlearn: 0.0251117\ttotal: 436ms\tremaining: 1.06s\n",
      "292:\tlearn: 0.0250035\ttotal: 437ms\tremaining: 1.05s\n",
      "293:\tlearn: 0.0247940\ttotal: 437ms\tremaining: 1.05s\n",
      "294:\tlearn: 0.0245886\ttotal: 438ms\tremaining: 1.05s\n",
      "295:\tlearn: 0.0244931\ttotal: 439ms\tremaining: 1.04s\n",
      "296:\tlearn: 0.0243926\ttotal: 440ms\tremaining: 1.04s\n",
      "297:\tlearn: 0.0242934\ttotal: 441ms\tremaining: 1.04s\n",
      "298:\tlearn: 0.0241824\ttotal: 443ms\tremaining: 1.04s\n",
      "299:\tlearn: 0.0240918\ttotal: 444ms\tremaining: 1.04s\n",
      "300:\tlearn: 0.0239964\ttotal: 446ms\tremaining: 1.03s\n",
      "301:\tlearn: 0.0238973\ttotal: 447ms\tremaining: 1.03s\n",
      "302:\tlearn: 0.0237571\ttotal: 448ms\tremaining: 1.03s\n",
      "303:\tlearn: 0.0236646\ttotal: 449ms\tremaining: 1.03s\n",
      "304:\tlearn: 0.0235772\ttotal: 451ms\tremaining: 1.03s\n",
      "305:\tlearn: 0.0234741\ttotal: 452ms\tremaining: 1.03s\n",
      "306:\tlearn: 0.0233881\ttotal: 453ms\tremaining: 1.02s\n",
      "307:\tlearn: 0.0232864\ttotal: 455ms\tremaining: 1.02s\n",
      "308:\tlearn: 0.0231941\ttotal: 456ms\tremaining: 1.02s\n",
      "309:\tlearn: 0.0231013\ttotal: 458ms\tremaining: 1.02s\n",
      "310:\tlearn: 0.0230192\ttotal: 459ms\tremaining: 1.02s\n",
      "311:\tlearn: 0.0229318\ttotal: 460ms\tremaining: 1.01s\n",
      "312:\tlearn: 0.0228297\ttotal: 461ms\tremaining: 1.01s\n",
      "313:\tlearn: 0.0227402\ttotal: 462ms\tremaining: 1.01s\n",
      "314:\tlearn: 0.0226792\ttotal: 463ms\tremaining: 1.01s\n",
      "315:\tlearn: 0.0225871\ttotal: 464ms\tremaining: 1s\n",
      "316:\tlearn: 0.0225016\ttotal: 466ms\tremaining: 1s\n",
      "317:\tlearn: 0.0224235\ttotal: 467ms\tremaining: 1s\n",
      "318:\tlearn: 0.0222996\ttotal: 469ms\tremaining: 1s\n",
      "319:\tlearn: 0.0222257\ttotal: 470ms\tremaining: 999ms\n",
      "320:\tlearn: 0.0221390\ttotal: 471ms\tremaining: 997ms\n",
      "321:\tlearn: 0.0220428\ttotal: 473ms\tremaining: 995ms\n",
      "322:\tlearn: 0.0219624\ttotal: 474ms\tremaining: 994ms\n",
      "323:\tlearn: 0.0218620\ttotal: 476ms\tremaining: 993ms\n",
      "324:\tlearn: 0.0217868\ttotal: 477ms\tremaining: 991ms\n",
      "325:\tlearn: 0.0217156\ttotal: 478ms\tremaining: 988ms\n",
      "326:\tlearn: 0.0216297\ttotal: 479ms\tremaining: 986ms\n",
      "327:\tlearn: 0.0215486\ttotal: 480ms\tremaining: 984ms\n",
      "328:\tlearn: 0.0214746\ttotal: 481ms\tremaining: 981ms\n",
      "329:\tlearn: 0.0214036\ttotal: 482ms\tremaining: 979ms\n",
      "330:\tlearn: 0.0213313\ttotal: 484ms\tremaining: 978ms\n",
      "331:\tlearn: 0.0212581\ttotal: 485ms\tremaining: 976ms\n",
      "332:\tlearn: 0.0211905\ttotal: 487ms\tremaining: 975ms\n",
      "333:\tlearn: 0.0211086\ttotal: 488ms\tremaining: 973ms\n",
      "334:\tlearn: 0.0210274\ttotal: 489ms\tremaining: 972ms\n",
      "335:\tlearn: 0.0209499\ttotal: 491ms\tremaining: 970ms\n",
      "336:\tlearn: 0.0208892\ttotal: 492ms\tremaining: 969ms\n",
      "337:\tlearn: 0.0208134\ttotal: 494ms\tremaining: 967ms\n",
      "338:\tlearn: 0.0207447\ttotal: 495ms\tremaining: 966ms\n",
      "339:\tlearn: 0.0206662\ttotal: 497ms\tremaining: 964ms\n",
      "340:\tlearn: 0.0205954\ttotal: 498ms\tremaining: 962ms\n",
      "341:\tlearn: 0.0205240\ttotal: 499ms\tremaining: 960ms\n",
      "342:\tlearn: 0.0204455\ttotal: 501ms\tremaining: 959ms\n",
      "343:\tlearn: 0.0203806\ttotal: 502ms\tremaining: 957ms\n",
      "344:\tlearn: 0.0203047\ttotal: 503ms\tremaining: 955ms\n",
      "345:\tlearn: 0.0202341\ttotal: 504ms\tremaining: 953ms\n",
      "346:\tlearn: 0.0201561\ttotal: 505ms\tremaining: 951ms\n",
      "347:\tlearn: 0.0200887\ttotal: 507ms\tremaining: 949ms\n",
      "348:\tlearn: 0.0200224\ttotal: 508ms\tremaining: 947ms\n",
      "349:\tlearn: 0.0199542\ttotal: 509ms\tremaining: 946ms\n",
      "350:\tlearn: 0.0199069\ttotal: 510ms\tremaining: 944ms\n",
      "351:\tlearn: 0.0198349\ttotal: 512ms\tremaining: 942ms\n",
      "352:\tlearn: 0.0196988\ttotal: 513ms\tremaining: 940ms\n",
      "353:\tlearn: 0.0196355\ttotal: 514ms\tremaining: 938ms\n",
      "354:\tlearn: 0.0195714\ttotal: 515ms\tremaining: 936ms\n",
      "355:\tlearn: 0.0195124\ttotal: 517ms\tremaining: 935ms\n",
      "356:\tlearn: 0.0194526\ttotal: 518ms\tremaining: 933ms\n",
      "357:\tlearn: 0.0193833\ttotal: 520ms\tremaining: 932ms\n",
      "358:\tlearn: 0.0193231\ttotal: 521ms\tremaining: 930ms\n",
      "359:\tlearn: 0.0192603\ttotal: 522ms\tremaining: 928ms\n",
      "360:\tlearn: 0.0192046\ttotal: 524ms\tremaining: 927ms\n",
      "361:\tlearn: 0.0191459\ttotal: 525ms\tremaining: 925ms\n",
      "362:\tlearn: 0.0190859\ttotal: 526ms\tremaining: 923ms\n",
      "363:\tlearn: 0.0190143\ttotal: 527ms\tremaining: 922ms\n",
      "364:\tlearn: 0.0189595\ttotal: 529ms\tremaining: 920ms\n",
      "365:\tlearn: 0.0189022\ttotal: 530ms\tremaining: 918ms\n",
      "366:\tlearn: 0.0188409\ttotal: 531ms\tremaining: 916ms\n",
      "367:\tlearn: 0.0187867\ttotal: 532ms\tremaining: 914ms\n",
      "368:\tlearn: 0.0186676\ttotal: 533ms\tremaining: 912ms\n",
      "369:\tlearn: 0.0186095\ttotal: 534ms\tremaining: 910ms\n",
      "370:\tlearn: 0.0185528\ttotal: 536ms\tremaining: 908ms\n",
      "371:\tlearn: 0.0184926\ttotal: 537ms\tremaining: 906ms\n",
      "372:\tlearn: 0.0184372\ttotal: 538ms\tremaining: 905ms\n",
      "373:\tlearn: 0.0183778\ttotal: 539ms\tremaining: 903ms\n",
      "374:\tlearn: 0.0183237\ttotal: 541ms\tremaining: 901ms\n",
      "375:\tlearn: 0.0182670\ttotal: 542ms\tremaining: 900ms\n",
      "376:\tlearn: 0.0182126\ttotal: 543ms\tremaining: 898ms\n",
      "377:\tlearn: 0.0181584\ttotal: 544ms\tremaining: 896ms\n",
      "378:\tlearn: 0.0180978\ttotal: 546ms\tremaining: 894ms\n",
      "379:\tlearn: 0.0180485\ttotal: 547ms\tremaining: 892ms\n",
      "380:\tlearn: 0.0179963\ttotal: 548ms\tremaining: 891ms\n",
      "381:\tlearn: 0.0179397\ttotal: 550ms\tremaining: 889ms\n",
      "382:\tlearn: 0.0177651\ttotal: 550ms\tremaining: 886ms\n",
      "383:\tlearn: 0.0177146\ttotal: 552ms\tremaining: 885ms\n",
      "384:\tlearn: 0.0176605\ttotal: 553ms\tremaining: 883ms\n",
      "385:\tlearn: 0.0175997\ttotal: 554ms\tremaining: 881ms\n",
      "386:\tlearn: 0.0175426\ttotal: 555ms\tremaining: 880ms\n",
      "387:\tlearn: 0.0174895\ttotal: 557ms\tremaining: 878ms\n",
      "388:\tlearn: 0.0174375\ttotal: 559ms\tremaining: 878ms\n",
      "389:\tlearn: 0.0173859\ttotal: 560ms\tremaining: 877ms\n",
      "390:\tlearn: 0.0173398\ttotal: 562ms\tremaining: 875ms\n",
      "391:\tlearn: 0.0172920\ttotal: 563ms\tremaining: 874ms\n",
      "392:\tlearn: 0.0172440\ttotal: 565ms\tremaining: 872ms\n",
      "393:\tlearn: 0.0171963\ttotal: 566ms\tremaining: 871ms\n",
      "394:\tlearn: 0.0171478\ttotal: 568ms\tremaining: 870ms\n",
      "395:\tlearn: 0.0170969\ttotal: 570ms\tremaining: 869ms\n",
      "396:\tlearn: 0.0170319\ttotal: 571ms\tremaining: 868ms\n",
      "397:\tlearn: 0.0169834\ttotal: 572ms\tremaining: 866ms\n",
      "398:\tlearn: 0.0169343\ttotal: 574ms\tremaining: 864ms\n",
      "399:\tlearn: 0.0168909\ttotal: 575ms\tremaining: 862ms\n",
      "400:\tlearn: 0.0168416\ttotal: 576ms\tremaining: 860ms\n",
      "401:\tlearn: 0.0167418\ttotal: 577ms\tremaining: 858ms\n",
      "402:\tlearn: 0.0166881\ttotal: 578ms\tremaining: 856ms\n",
      "403:\tlearn: 0.0166412\ttotal: 579ms\tremaining: 854ms\n",
      "404:\tlearn: 0.0165900\ttotal: 580ms\tremaining: 852ms\n",
      "405:\tlearn: 0.0165430\ttotal: 581ms\tremaining: 850ms\n",
      "406:\tlearn: 0.0164949\ttotal: 583ms\tremaining: 849ms\n",
      "407:\tlearn: 0.0164190\ttotal: 584ms\tremaining: 847ms\n",
      "408:\tlearn: 0.0163762\ttotal: 585ms\tremaining: 846ms\n",
      "409:\tlearn: 0.0163341\ttotal: 587ms\tremaining: 844ms\n",
      "410:\tlearn: 0.0162946\ttotal: 588ms\tremaining: 843ms\n",
      "411:\tlearn: 0.0162457\ttotal: 589ms\tremaining: 841ms\n",
      "412:\tlearn: 0.0161992\ttotal: 591ms\tremaining: 839ms\n",
      "413:\tlearn: 0.0161558\ttotal: 592ms\tremaining: 838ms\n",
      "414:\tlearn: 0.0161045\ttotal: 593ms\tremaining: 836ms\n",
      "415:\tlearn: 0.0160625\ttotal: 594ms\tremaining: 834ms\n",
      "416:\tlearn: 0.0160146\ttotal: 596ms\tremaining: 833ms\n",
      "417:\tlearn: 0.0159818\ttotal: 597ms\tremaining: 831ms\n",
      "418:\tlearn: 0.0159403\ttotal: 598ms\tremaining: 829ms\n",
      "419:\tlearn: 0.0158986\ttotal: 599ms\tremaining: 828ms\n",
      "420:\tlearn: 0.0158594\ttotal: 601ms\tremaining: 826ms\n",
      "421:\tlearn: 0.0158157\ttotal: 602ms\tremaining: 825ms\n",
      "422:\tlearn: 0.0157750\ttotal: 603ms\tremaining: 823ms\n",
      "423:\tlearn: 0.0157234\ttotal: 605ms\tremaining: 822ms\n",
      "424:\tlearn: 0.0156812\ttotal: 606ms\tremaining: 820ms\n",
      "425:\tlearn: 0.0156387\ttotal: 608ms\tremaining: 819ms\n",
      "426:\tlearn: 0.0155932\ttotal: 609ms\tremaining: 817ms\n",
      "427:\tlearn: 0.0155530\ttotal: 610ms\tremaining: 816ms\n",
      "428:\tlearn: 0.0155115\ttotal: 612ms\tremaining: 814ms\n",
      "429:\tlearn: 0.0154729\ttotal: 613ms\tremaining: 812ms\n",
      "430:\tlearn: 0.0154342\ttotal: 614ms\tremaining: 811ms\n",
      "431:\tlearn: 0.0153871\ttotal: 616ms\tremaining: 809ms\n",
      "432:\tlearn: 0.0153487\ttotal: 617ms\tremaining: 808ms\n",
      "433:\tlearn: 0.0153049\ttotal: 618ms\tremaining: 806ms\n",
      "434:\tlearn: 0.0152635\ttotal: 620ms\tremaining: 805ms\n",
      "435:\tlearn: 0.0152223\ttotal: 621ms\tremaining: 803ms\n",
      "436:\tlearn: 0.0151645\ttotal: 622ms\tremaining: 802ms\n",
      "437:\tlearn: 0.0151245\ttotal: 624ms\tremaining: 800ms\n",
      "438:\tlearn: 0.0150871\ttotal: 625ms\tremaining: 798ms\n",
      "439:\tlearn: 0.0150403\ttotal: 626ms\tremaining: 797ms\n",
      "440:\tlearn: 0.0149957\ttotal: 627ms\tremaining: 795ms\n",
      "441:\tlearn: 0.0149566\ttotal: 629ms\tremaining: 794ms\n",
      "442:\tlearn: 0.0149129\ttotal: 630ms\tremaining: 792ms\n",
      "443:\tlearn: 0.0148749\ttotal: 631ms\tremaining: 790ms\n",
      "444:\tlearn: 0.0148376\ttotal: 632ms\tremaining: 789ms\n",
      "445:\tlearn: 0.0148018\ttotal: 634ms\tremaining: 787ms\n",
      "446:\tlearn: 0.0147654\ttotal: 635ms\tremaining: 785ms\n",
      "447:\tlearn: 0.0147221\ttotal: 636ms\tremaining: 784ms\n",
      "448:\tlearn: 0.0146861\ttotal: 637ms\tremaining: 782ms\n",
      "449:\tlearn: 0.0146532\ttotal: 639ms\tremaining: 781ms\n",
      "450:\tlearn: 0.0146183\ttotal: 640ms\tremaining: 779ms\n",
      "451:\tlearn: 0.0145769\ttotal: 641ms\tremaining: 777ms\n",
      "452:\tlearn: 0.0145410\ttotal: 642ms\tremaining: 776ms\n",
      "453:\tlearn: 0.0145048\ttotal: 644ms\tremaining: 774ms\n",
      "454:\tlearn: 0.0144706\ttotal: 645ms\tremaining: 773ms\n",
      "455:\tlearn: 0.0144285\ttotal: 646ms\tremaining: 771ms\n",
      "456:\tlearn: 0.0143804\ttotal: 648ms\tremaining: 770ms\n",
      "457:\tlearn: 0.0143442\ttotal: 649ms\tremaining: 768ms\n",
      "458:\tlearn: 0.0143072\ttotal: 650ms\tremaining: 766ms\n",
      "459:\tlearn: 0.0142571\ttotal: 651ms\tremaining: 765ms\n",
      "460:\tlearn: 0.0142241\ttotal: 653ms\tremaining: 763ms\n",
      "461:\tlearn: 0.0141862\ttotal: 654ms\tremaining: 761ms\n",
      "462:\tlearn: 0.0141533\ttotal: 655ms\tremaining: 760ms\n",
      "463:\tlearn: 0.0141221\ttotal: 657ms\tremaining: 758ms\n",
      "464:\tlearn: 0.0140888\ttotal: 658ms\tremaining: 757ms\n",
      "465:\tlearn: 0.0140669\ttotal: 659ms\tremaining: 756ms\n",
      "466:\tlearn: 0.0140374\ttotal: 661ms\tremaining: 754ms\n",
      "467:\tlearn: 0.0140053\ttotal: 662ms\tremaining: 752ms\n",
      "468:\tlearn: 0.0139688\ttotal: 663ms\tremaining: 751ms\n",
      "469:\tlearn: 0.0139342\ttotal: 665ms\tremaining: 749ms\n",
      "470:\tlearn: 0.0138955\ttotal: 666ms\tremaining: 748ms\n",
      "471:\tlearn: 0.0138618\ttotal: 667ms\tremaining: 746ms\n",
      "472:\tlearn: 0.0138259\ttotal: 668ms\tremaining: 745ms\n",
      "473:\tlearn: 0.0137959\ttotal: 670ms\tremaining: 743ms\n",
      "474:\tlearn: 0.0137631\ttotal: 671ms\tremaining: 741ms\n",
      "475:\tlearn: 0.0137311\ttotal: 672ms\tremaining: 740ms\n",
      "476:\tlearn: 0.0136941\ttotal: 673ms\tremaining: 738ms\n",
      "477:\tlearn: 0.0136654\ttotal: 675ms\tremaining: 737ms\n",
      "478:\tlearn: 0.0136350\ttotal: 676ms\tremaining: 735ms\n",
      "479:\tlearn: 0.0136020\ttotal: 677ms\tremaining: 734ms\n",
      "480:\tlearn: 0.0135687\ttotal: 679ms\tremaining: 732ms\n",
      "481:\tlearn: 0.0135300\ttotal: 680ms\tremaining: 731ms\n",
      "482:\tlearn: 0.0134991\ttotal: 681ms\tremaining: 729ms\n",
      "483:\tlearn: 0.0134650\ttotal: 683ms\tremaining: 728ms\n",
      "484:\tlearn: 0.0134347\ttotal: 684ms\tremaining: 726ms\n",
      "485:\tlearn: 0.0133803\ttotal: 685ms\tremaining: 725ms\n",
      "486:\tlearn: 0.0133511\ttotal: 687ms\tremaining: 723ms\n",
      "487:\tlearn: 0.0133220\ttotal: 688ms\tremaining: 722ms\n",
      "488:\tlearn: 0.0132905\ttotal: 689ms\tremaining: 720ms\n",
      "489:\tlearn: 0.0132288\ttotal: 690ms\tremaining: 718ms\n",
      "490:\tlearn: 0.0131869\ttotal: 691ms\tremaining: 717ms\n",
      "491:\tlearn: 0.0131579\ttotal: 693ms\tremaining: 715ms\n",
      "492:\tlearn: 0.0131301\ttotal: 694ms\tremaining: 714ms\n",
      "493:\tlearn: 0.0131019\ttotal: 695ms\tremaining: 712ms\n",
      "494:\tlearn: 0.0130733\ttotal: 697ms\tremaining: 711ms\n",
      "495:\tlearn: 0.0130444\ttotal: 698ms\tremaining: 709ms\n",
      "496:\tlearn: 0.0129829\ttotal: 699ms\tremaining: 707ms\n",
      "497:\tlearn: 0.0129520\ttotal: 700ms\tremaining: 706ms\n",
      "498:\tlearn: 0.0129264\ttotal: 701ms\tremaining: 704ms\n",
      "499:\tlearn: 0.0128991\ttotal: 703ms\tremaining: 703ms\n",
      "500:\tlearn: 0.0128717\ttotal: 704ms\tremaining: 701ms\n",
      "501:\tlearn: 0.0128386\ttotal: 705ms\tremaining: 700ms\n",
      "502:\tlearn: 0.0128062\ttotal: 707ms\tremaining: 698ms\n",
      "503:\tlearn: 0.0127785\ttotal: 708ms\tremaining: 697ms\n",
      "504:\tlearn: 0.0127507\ttotal: 710ms\tremaining: 696ms\n",
      "505:\tlearn: 0.0127203\ttotal: 711ms\tremaining: 694ms\n",
      "506:\tlearn: 0.0126914\ttotal: 713ms\tremaining: 693ms\n",
      "507:\tlearn: 0.0126652\ttotal: 714ms\tremaining: 692ms\n",
      "508:\tlearn: 0.0126399\ttotal: 715ms\tremaining: 690ms\n",
      "509:\tlearn: 0.0126078\ttotal: 717ms\tremaining: 689ms\n",
      "510:\tlearn: 0.0125618\ttotal: 718ms\tremaining: 687ms\n",
      "511:\tlearn: 0.0125361\ttotal: 719ms\tremaining: 686ms\n",
      "512:\tlearn: 0.0125043\ttotal: 721ms\tremaining: 684ms\n",
      "513:\tlearn: 0.0124765\ttotal: 722ms\tremaining: 683ms\n",
      "514:\tlearn: 0.0124535\ttotal: 723ms\tremaining: 681ms\n",
      "515:\tlearn: 0.0124268\ttotal: 725ms\tremaining: 680ms\n",
      "516:\tlearn: 0.0124010\ttotal: 726ms\tremaining: 678ms\n",
      "517:\tlearn: 0.0123749\ttotal: 727ms\tremaining: 677ms\n",
      "518:\tlearn: 0.0123502\ttotal: 728ms\tremaining: 675ms\n",
      "519:\tlearn: 0.0123243\ttotal: 730ms\tremaining: 673ms\n",
      "520:\tlearn: 0.0122983\ttotal: 731ms\tremaining: 672ms\n",
      "521:\tlearn: 0.0122713\ttotal: 732ms\tremaining: 671ms\n",
      "522:\tlearn: 0.0122476\ttotal: 733ms\tremaining: 669ms\n",
      "523:\tlearn: 0.0122219\ttotal: 735ms\tremaining: 667ms\n",
      "524:\tlearn: 0.0121950\ttotal: 736ms\tremaining: 666ms\n",
      "525:\tlearn: 0.0121586\ttotal: 737ms\tremaining: 665ms\n",
      "526:\tlearn: 0.0121348\ttotal: 739ms\tremaining: 663ms\n",
      "527:\tlearn: 0.0121090\ttotal: 740ms\tremaining: 662ms\n",
      "528:\tlearn: 0.0120849\ttotal: 741ms\tremaining: 660ms\n",
      "529:\tlearn: 0.0120610\ttotal: 743ms\tremaining: 659ms\n",
      "530:\tlearn: 0.0120368\ttotal: 744ms\tremaining: 657ms\n",
      "531:\tlearn: 0.0120117\ttotal: 745ms\tremaining: 656ms\n",
      "532:\tlearn: 0.0119846\ttotal: 747ms\tremaining: 654ms\n",
      "533:\tlearn: 0.0119624\ttotal: 748ms\tremaining: 653ms\n",
      "534:\tlearn: 0.0119355\ttotal: 750ms\tremaining: 652ms\n",
      "535:\tlearn: 0.0118989\ttotal: 751ms\tremaining: 650ms\n",
      "536:\tlearn: 0.0118586\ttotal: 752ms\tremaining: 649ms\n",
      "537:\tlearn: 0.0118358\ttotal: 753ms\tremaining: 647ms\n",
      "538:\tlearn: 0.0118120\ttotal: 755ms\tremaining: 646ms\n",
      "539:\tlearn: 0.0117884\ttotal: 757ms\tremaining: 645ms\n",
      "540:\tlearn: 0.0117604\ttotal: 758ms\tremaining: 643ms\n",
      "541:\tlearn: 0.0117392\ttotal: 760ms\tremaining: 642ms\n",
      "542:\tlearn: 0.0117133\ttotal: 761ms\tremaining: 641ms\n",
      "543:\tlearn: 0.0116900\ttotal: 763ms\tremaining: 639ms\n",
      "544:\tlearn: 0.0116680\ttotal: 764ms\tremaining: 638ms\n",
      "545:\tlearn: 0.0116457\ttotal: 765ms\tremaining: 636ms\n",
      "546:\tlearn: 0.0116231\ttotal: 766ms\tremaining: 634ms\n",
      "547:\tlearn: 0.0115957\ttotal: 768ms\tremaining: 633ms\n",
      "548:\tlearn: 0.0115716\ttotal: 769ms\tremaining: 632ms\n",
      "549:\tlearn: 0.0115367\ttotal: 770ms\tremaining: 630ms\n",
      "550:\tlearn: 0.0115161\ttotal: 771ms\tremaining: 628ms\n",
      "551:\tlearn: 0.0114942\ttotal: 773ms\tremaining: 627ms\n",
      "552:\tlearn: 0.0114726\ttotal: 774ms\tremaining: 625ms\n",
      "553:\tlearn: 0.0114510\ttotal: 775ms\tremaining: 624ms\n",
      "554:\tlearn: 0.0114296\ttotal: 776ms\tremaining: 622ms\n",
      "555:\tlearn: 0.0114080\ttotal: 778ms\tremaining: 621ms\n",
      "556:\tlearn: 0.0113825\ttotal: 779ms\tremaining: 619ms\n",
      "557:\tlearn: 0.0113581\ttotal: 780ms\tremaining: 618ms\n",
      "558:\tlearn: 0.0113371\ttotal: 781ms\tremaining: 616ms\n",
      "559:\tlearn: 0.0113161\ttotal: 782ms\tremaining: 615ms\n",
      "560:\tlearn: 0.0112942\ttotal: 783ms\tremaining: 613ms\n",
      "561:\tlearn: 0.0112731\ttotal: 785ms\tremaining: 611ms\n",
      "562:\tlearn: 0.0112455\ttotal: 786ms\tremaining: 610ms\n",
      "563:\tlearn: 0.0112226\ttotal: 788ms\tremaining: 609ms\n",
      "564:\tlearn: 0.0112013\ttotal: 789ms\tremaining: 607ms\n",
      "565:\tlearn: 0.0111796\ttotal: 790ms\tremaining: 605ms\n",
      "566:\tlearn: 0.0111594\ttotal: 791ms\tremaining: 604ms\n",
      "567:\tlearn: 0.0111436\ttotal: 792ms\tremaining: 602ms\n",
      "568:\tlearn: 0.0111224\ttotal: 793ms\tremaining: 601ms\n",
      "569:\tlearn: 0.0110919\ttotal: 794ms\tremaining: 599ms\n",
      "570:\tlearn: 0.0110678\ttotal: 795ms\tremaining: 598ms\n",
      "571:\tlearn: 0.0110326\ttotal: 796ms\tremaining: 596ms\n",
      "572:\tlearn: 0.0110126\ttotal: 798ms\tremaining: 594ms\n",
      "573:\tlearn: 0.0109910\ttotal: 799ms\tremaining: 593ms\n",
      "574:\tlearn: 0.0109675\ttotal: 800ms\tremaining: 591ms\n",
      "575:\tlearn: 0.0109481\ttotal: 801ms\tremaining: 590ms\n",
      "576:\tlearn: 0.0109255\ttotal: 803ms\tremaining: 588ms\n",
      "577:\tlearn: 0.0109053\ttotal: 804ms\tremaining: 587ms\n",
      "578:\tlearn: 0.0108844\ttotal: 805ms\tremaining: 585ms\n",
      "579:\tlearn: 0.0108669\ttotal: 807ms\tremaining: 584ms\n",
      "580:\tlearn: 0.0108475\ttotal: 808ms\tremaining: 583ms\n",
      "581:\tlearn: 0.0108274\ttotal: 809ms\tremaining: 581ms\n",
      "582:\tlearn: 0.0108045\ttotal: 811ms\tremaining: 580ms\n",
      "583:\tlearn: 0.0107853\ttotal: 812ms\tremaining: 578ms\n",
      "584:\tlearn: 0.0107653\ttotal: 813ms\tremaining: 577ms\n",
      "585:\tlearn: 0.0107452\ttotal: 814ms\tremaining: 575ms\n",
      "586:\tlearn: 0.0107261\ttotal: 816ms\tremaining: 574ms\n",
      "587:\tlearn: 0.0107062\ttotal: 817ms\tremaining: 572ms\n",
      "588:\tlearn: 0.0106871\ttotal: 818ms\tremaining: 571ms\n",
      "589:\tlearn: 0.0106656\ttotal: 820ms\tremaining: 570ms\n",
      "590:\tlearn: 0.0106427\ttotal: 821ms\tremaining: 568ms\n",
      "591:\tlearn: 0.0106239\ttotal: 822ms\tremaining: 567ms\n",
      "592:\tlearn: 0.0106015\ttotal: 824ms\tremaining: 565ms\n",
      "593:\tlearn: 0.0105787\ttotal: 825ms\tremaining: 564ms\n",
      "594:\tlearn: 0.0105576\ttotal: 826ms\tremaining: 562ms\n",
      "595:\tlearn: 0.0105407\ttotal: 828ms\tremaining: 561ms\n",
      "596:\tlearn: 0.0105196\ttotal: 829ms\tremaining: 560ms\n",
      "597:\tlearn: 0.0104898\ttotal: 830ms\tremaining: 558ms\n",
      "598:\tlearn: 0.0104711\ttotal: 832ms\tremaining: 557ms\n",
      "599:\tlearn: 0.0104530\ttotal: 833ms\tremaining: 555ms\n",
      "600:\tlearn: 0.0104278\ttotal: 834ms\tremaining: 554ms\n",
      "601:\tlearn: 0.0104073\ttotal: 836ms\tremaining: 552ms\n",
      "602:\tlearn: 0.0103868\ttotal: 837ms\tremaining: 551ms\n",
      "603:\tlearn: 0.0103569\ttotal: 838ms\tremaining: 550ms\n",
      "604:\tlearn: 0.0103174\ttotal: 839ms\tremaining: 548ms\n",
      "605:\tlearn: 0.0102998\ttotal: 840ms\tremaining: 546ms\n",
      "606:\tlearn: 0.0102822\ttotal: 842ms\tremaining: 545ms\n",
      "607:\tlearn: 0.0102643\ttotal: 843ms\tremaining: 543ms\n",
      "608:\tlearn: 0.0102460\ttotal: 844ms\tremaining: 542ms\n",
      "609:\tlearn: 0.0102285\ttotal: 846ms\tremaining: 541ms\n",
      "610:\tlearn: 0.0102110\ttotal: 847ms\tremaining: 539ms\n",
      "611:\tlearn: 0.0101806\ttotal: 848ms\tremaining: 538ms\n",
      "612:\tlearn: 0.0101613\ttotal: 849ms\tremaining: 536ms\n",
      "613:\tlearn: 0.0101405\ttotal: 851ms\tremaining: 535ms\n",
      "614:\tlearn: 0.0101223\ttotal: 852ms\tremaining: 533ms\n",
      "615:\tlearn: 0.0101055\ttotal: 853ms\tremaining: 532ms\n",
      "616:\tlearn: 0.0100874\ttotal: 854ms\tremaining: 530ms\n",
      "617:\tlearn: 0.0100675\ttotal: 855ms\tremaining: 529ms\n",
      "618:\tlearn: 0.0100499\ttotal: 857ms\tremaining: 527ms\n",
      "619:\tlearn: 0.0100330\ttotal: 858ms\tremaining: 526ms\n",
      "620:\tlearn: 0.0100175\ttotal: 859ms\tremaining: 524ms\n",
      "621:\tlearn: 0.0100012\ttotal: 861ms\tremaining: 523ms\n",
      "622:\tlearn: 0.0099838\ttotal: 862ms\tremaining: 522ms\n",
      "623:\tlearn: 0.0099674\ttotal: 864ms\tremaining: 520ms\n",
      "624:\tlearn: 0.0099505\ttotal: 865ms\tremaining: 519ms\n",
      "625:\tlearn: 0.0099349\ttotal: 866ms\tremaining: 518ms\n",
      "626:\tlearn: 0.0099183\ttotal: 868ms\tremaining: 516ms\n",
      "627:\tlearn: 0.0099018\ttotal: 869ms\tremaining: 515ms\n",
      "628:\tlearn: 0.0098830\ttotal: 870ms\tremaining: 513ms\n",
      "629:\tlearn: 0.0098669\ttotal: 872ms\tremaining: 512ms\n",
      "630:\tlearn: 0.0098506\ttotal: 873ms\tremaining: 511ms\n",
      "631:\tlearn: 0.0098348\ttotal: 874ms\tremaining: 509ms\n",
      "632:\tlearn: 0.0098185\ttotal: 876ms\tremaining: 508ms\n",
      "633:\tlearn: 0.0098021\ttotal: 877ms\tremaining: 506ms\n",
      "634:\tlearn: 0.0097799\ttotal: 878ms\tremaining: 505ms\n",
      "635:\tlearn: 0.0097654\ttotal: 880ms\tremaining: 503ms\n",
      "636:\tlearn: 0.0097495\ttotal: 881ms\tremaining: 502ms\n",
      "637:\tlearn: 0.0097272\ttotal: 882ms\tremaining: 500ms\n",
      "638:\tlearn: 0.0097094\ttotal: 883ms\tremaining: 499ms\n",
      "639:\tlearn: 0.0096930\ttotal: 885ms\tremaining: 498ms\n",
      "640:\tlearn: 0.0096745\ttotal: 886ms\tremaining: 496ms\n",
      "641:\tlearn: 0.0096599\ttotal: 888ms\tremaining: 495ms\n",
      "642:\tlearn: 0.0096432\ttotal: 889ms\tremaining: 493ms\n",
      "643:\tlearn: 0.0096279\ttotal: 890ms\tremaining: 492ms\n",
      "644:\tlearn: 0.0096118\ttotal: 892ms\tremaining: 491ms\n",
      "645:\tlearn: 0.0095960\ttotal: 893ms\tremaining: 489ms\n",
      "646:\tlearn: 0.0095806\ttotal: 894ms\tremaining: 488ms\n",
      "647:\tlearn: 0.0095665\ttotal: 895ms\tremaining: 486ms\n",
      "648:\tlearn: 0.0095500\ttotal: 897ms\tremaining: 485ms\n",
      "649:\tlearn: 0.0095340\ttotal: 898ms\tremaining: 483ms\n",
      "650:\tlearn: 0.0095190\ttotal: 899ms\tremaining: 482ms\n",
      "651:\tlearn: 0.0095038\ttotal: 900ms\tremaining: 480ms\n",
      "652:\tlearn: 0.0094881\ttotal: 901ms\tremaining: 479ms\n",
      "653:\tlearn: 0.0094710\ttotal: 903ms\tremaining: 478ms\n",
      "654:\tlearn: 0.0094567\ttotal: 904ms\tremaining: 476ms\n",
      "655:\tlearn: 0.0094418\ttotal: 905ms\tremaining: 475ms\n",
      "656:\tlearn: 0.0094304\ttotal: 907ms\tremaining: 473ms\n",
      "657:\tlearn: 0.0094144\ttotal: 908ms\tremaining: 472ms\n",
      "658:\tlearn: 0.0094001\ttotal: 909ms\tremaining: 470ms\n",
      "659:\tlearn: 0.0093853\ttotal: 910ms\tremaining: 469ms\n",
      "660:\tlearn: 0.0093681\ttotal: 912ms\tremaining: 468ms\n",
      "661:\tlearn: 0.0093526\ttotal: 913ms\tremaining: 466ms\n",
      "662:\tlearn: 0.0093384\ttotal: 914ms\tremaining: 465ms\n",
      "663:\tlearn: 0.0093227\ttotal: 916ms\tremaining: 463ms\n",
      "664:\tlearn: 0.0093071\ttotal: 917ms\tremaining: 462ms\n",
      "665:\tlearn: 0.0092934\ttotal: 918ms\tremaining: 461ms\n",
      "666:\tlearn: 0.0092784\ttotal: 920ms\tremaining: 459ms\n",
      "667:\tlearn: 0.0092620\ttotal: 921ms\tremaining: 458ms\n",
      "668:\tlearn: 0.0092415\ttotal: 923ms\tremaining: 456ms\n",
      "669:\tlearn: 0.0092167\ttotal: 924ms\tremaining: 455ms\n",
      "670:\tlearn: 0.0092059\ttotal: 925ms\tremaining: 454ms\n",
      "671:\tlearn: 0.0091928\ttotal: 926ms\tremaining: 452ms\n",
      "672:\tlearn: 0.0091779\ttotal: 928ms\tremaining: 451ms\n",
      "673:\tlearn: 0.0091605\ttotal: 929ms\tremaining: 449ms\n",
      "674:\tlearn: 0.0091443\ttotal: 930ms\tremaining: 448ms\n",
      "675:\tlearn: 0.0091303\ttotal: 931ms\tremaining: 446ms\n",
      "676:\tlearn: 0.0091176\ttotal: 933ms\tremaining: 445ms\n",
      "677:\tlearn: 0.0091027\ttotal: 934ms\tremaining: 443ms\n",
      "678:\tlearn: 0.0090885\ttotal: 935ms\tremaining: 442ms\n",
      "679:\tlearn: 0.0090757\ttotal: 937ms\tremaining: 441ms\n",
      "680:\tlearn: 0.0090621\ttotal: 939ms\tremaining: 440ms\n",
      "681:\tlearn: 0.0090472\ttotal: 943ms\tremaining: 439ms\n",
      "682:\tlearn: 0.0090334\ttotal: 944ms\tremaining: 438ms\n",
      "683:\tlearn: 0.0090207\ttotal: 946ms\tremaining: 437ms\n",
      "684:\tlearn: 0.0090047\ttotal: 947ms\tremaining: 436ms\n",
      "685:\tlearn: 0.0089884\ttotal: 949ms\tremaining: 434ms\n",
      "686:\tlearn: 0.0089753\ttotal: 950ms\tremaining: 433ms\n",
      "687:\tlearn: 0.0089625\ttotal: 951ms\tremaining: 431ms\n",
      "688:\tlearn: 0.0089488\ttotal: 953ms\tremaining: 430ms\n",
      "689:\tlearn: 0.0089350\ttotal: 954ms\tremaining: 428ms\n",
      "690:\tlearn: 0.0089216\ttotal: 955ms\tremaining: 427ms\n",
      "691:\tlearn: 0.0089092\ttotal: 956ms\tremaining: 425ms\n",
      "692:\tlearn: 0.0088948\ttotal: 957ms\tremaining: 424ms\n",
      "693:\tlearn: 0.0088823\ttotal: 959ms\tremaining: 423ms\n",
      "694:\tlearn: 0.0088529\ttotal: 959ms\tremaining: 421ms\n",
      "695:\tlearn: 0.0088380\ttotal: 961ms\tremaining: 420ms\n",
      "696:\tlearn: 0.0088239\ttotal: 962ms\tremaining: 418ms\n",
      "697:\tlearn: 0.0088111\ttotal: 963ms\tremaining: 417ms\n",
      "698:\tlearn: 0.0087973\ttotal: 964ms\tremaining: 415ms\n",
      "699:\tlearn: 0.0087841\ttotal: 966ms\tremaining: 414ms\n",
      "700:\tlearn: 0.0087706\ttotal: 967ms\tremaining: 412ms\n",
      "701:\tlearn: 0.0087577\ttotal: 968ms\tremaining: 411ms\n",
      "702:\tlearn: 0.0087423\ttotal: 970ms\tremaining: 410ms\n",
      "703:\tlearn: 0.0087266\ttotal: 971ms\tremaining: 408ms\n",
      "704:\tlearn: 0.0087126\ttotal: 972ms\tremaining: 407ms\n",
      "705:\tlearn: 0.0086982\ttotal: 973ms\tremaining: 405ms\n",
      "706:\tlearn: 0.0086806\ttotal: 975ms\tremaining: 404ms\n",
      "707:\tlearn: 0.0086682\ttotal: 976ms\tremaining: 403ms\n",
      "708:\tlearn: 0.0086558\ttotal: 978ms\tremaining: 401ms\n",
      "709:\tlearn: 0.0086427\ttotal: 979ms\tremaining: 400ms\n",
      "710:\tlearn: 0.0086295\ttotal: 980ms\tremaining: 398ms\n",
      "711:\tlearn: 0.0086174\ttotal: 982ms\tremaining: 397ms\n",
      "712:\tlearn: 0.0085943\ttotal: 983ms\tremaining: 396ms\n",
      "713:\tlearn: 0.0085797\ttotal: 984ms\tremaining: 394ms\n",
      "714:\tlearn: 0.0085683\ttotal: 985ms\tremaining: 393ms\n",
      "715:\tlearn: 0.0085553\ttotal: 986ms\tremaining: 391ms\n",
      "716:\tlearn: 0.0085394\ttotal: 988ms\tremaining: 390ms\n",
      "717:\tlearn: 0.0085272\ttotal: 989ms\tremaining: 388ms\n",
      "718:\tlearn: 0.0085096\ttotal: 991ms\tremaining: 387ms\n",
      "719:\tlearn: 0.0084847\ttotal: 991ms\tremaining: 385ms\n",
      "720:\tlearn: 0.0084728\ttotal: 993ms\tremaining: 384ms\n",
      "721:\tlearn: 0.0084609\ttotal: 994ms\tremaining: 383ms\n",
      "722:\tlearn: 0.0084484\ttotal: 995ms\tremaining: 381ms\n",
      "723:\tlearn: 0.0084256\ttotal: 996ms\tremaining: 380ms\n",
      "724:\tlearn: 0.0084115\ttotal: 997ms\tremaining: 378ms\n",
      "725:\tlearn: 0.0083996\ttotal: 999ms\tremaining: 377ms\n",
      "726:\tlearn: 0.0083733\ttotal: 999ms\tremaining: 375ms\n",
      "727:\tlearn: 0.0083599\ttotal: 1s\tremaining: 374ms\n",
      "728:\tlearn: 0.0083482\ttotal: 1s\tremaining: 373ms\n",
      "729:\tlearn: 0.0083360\ttotal: 1s\tremaining: 371ms\n",
      "730:\tlearn: 0.0083241\ttotal: 1s\tremaining: 370ms\n",
      "731:\tlearn: 0.0083109\ttotal: 1.01s\tremaining: 368ms\n",
      "732:\tlearn: 0.0082978\ttotal: 1.01s\tremaining: 367ms\n",
      "733:\tlearn: 0.0082860\ttotal: 1.01s\tremaining: 366ms\n",
      "734:\tlearn: 0.0082742\ttotal: 1.01s\tremaining: 364ms\n",
      "735:\tlearn: 0.0082615\ttotal: 1.01s\tremaining: 363ms\n",
      "736:\tlearn: 0.0082485\ttotal: 1.01s\tremaining: 361ms\n",
      "737:\tlearn: 0.0082369\ttotal: 1.01s\tremaining: 360ms\n",
      "738:\tlearn: 0.0082250\ttotal: 1.01s\tremaining: 359ms\n",
      "739:\tlearn: 0.0082124\ttotal: 1.02s\tremaining: 357ms\n",
      "740:\tlearn: 0.0081999\ttotal: 1.02s\tremaining: 356ms\n",
      "741:\tlearn: 0.0081887\ttotal: 1.02s\tremaining: 354ms\n",
      "742:\tlearn: 0.0081775\ttotal: 1.02s\tremaining: 353ms\n",
      "743:\tlearn: 0.0081643\ttotal: 1.02s\tremaining: 352ms\n",
      "744:\tlearn: 0.0081528\ttotal: 1.02s\tremaining: 350ms\n",
      "745:\tlearn: 0.0081410\ttotal: 1.02s\tremaining: 349ms\n",
      "746:\tlearn: 0.0081270\ttotal: 1.02s\tremaining: 347ms\n",
      "747:\tlearn: 0.0081150\ttotal: 1.03s\tremaining: 346ms\n",
      "748:\tlearn: 0.0081047\ttotal: 1.03s\tremaining: 345ms\n",
      "749:\tlearn: 0.0080854\ttotal: 1.03s\tremaining: 343ms\n",
      "750:\tlearn: 0.0080652\ttotal: 1.03s\tremaining: 342ms\n",
      "751:\tlearn: 0.0080545\ttotal: 1.03s\tremaining: 341ms\n",
      "752:\tlearn: 0.0080423\ttotal: 1.03s\tremaining: 339ms\n",
      "753:\tlearn: 0.0080310\ttotal: 1.03s\tremaining: 338ms\n",
      "754:\tlearn: 0.0080183\ttotal: 1.04s\tremaining: 336ms\n",
      "755:\tlearn: 0.0080074\ttotal: 1.04s\tremaining: 335ms\n",
      "756:\tlearn: 0.0079955\ttotal: 1.04s\tremaining: 333ms\n",
      "757:\tlearn: 0.0079840\ttotal: 1.04s\tremaining: 332ms\n",
      "758:\tlearn: 0.0079723\ttotal: 1.04s\tremaining: 331ms\n",
      "759:\tlearn: 0.0079597\ttotal: 1.04s\tremaining: 329ms\n",
      "760:\tlearn: 0.0079489\ttotal: 1.04s\tremaining: 328ms\n",
      "761:\tlearn: 0.0079380\ttotal: 1.04s\tremaining: 326ms\n",
      "762:\tlearn: 0.0079272\ttotal: 1.05s\tremaining: 325ms\n",
      "763:\tlearn: 0.0079165\ttotal: 1.05s\tremaining: 324ms\n",
      "764:\tlearn: 0.0079046\ttotal: 1.05s\tremaining: 322ms\n",
      "765:\tlearn: 0.0078940\ttotal: 1.05s\tremaining: 321ms\n",
      "766:\tlearn: 0.0078832\ttotal: 1.05s\tremaining: 319ms\n",
      "767:\tlearn: 0.0078720\ttotal: 1.05s\tremaining: 318ms\n",
      "768:\tlearn: 0.0078619\ttotal: 1.05s\tremaining: 317ms\n",
      "769:\tlearn: 0.0078491\ttotal: 1.05s\tremaining: 315ms\n",
      "770:\tlearn: 0.0078383\ttotal: 1.06s\tremaining: 314ms\n",
      "771:\tlearn: 0.0078260\ttotal: 1.06s\tremaining: 312ms\n",
      "772:\tlearn: 0.0078136\ttotal: 1.06s\tremaining: 311ms\n",
      "773:\tlearn: 0.0078020\ttotal: 1.06s\tremaining: 310ms\n",
      "774:\tlearn: 0.0077907\ttotal: 1.06s\tremaining: 308ms\n",
      "775:\tlearn: 0.0077807\ttotal: 1.06s\tremaining: 307ms\n",
      "776:\tlearn: 0.0077692\ttotal: 1.06s\tremaining: 305ms\n",
      "777:\tlearn: 0.0077556\ttotal: 1.06s\tremaining: 304ms\n",
      "778:\tlearn: 0.0077451\ttotal: 1.07s\tremaining: 303ms\n",
      "779:\tlearn: 0.0077342\ttotal: 1.07s\tremaining: 301ms\n",
      "780:\tlearn: 0.0077236\ttotal: 1.07s\tremaining: 300ms\n",
      "781:\tlearn: 0.0077132\ttotal: 1.07s\tremaining: 299ms\n",
      "782:\tlearn: 0.0077011\ttotal: 1.07s\tremaining: 297ms\n",
      "783:\tlearn: 0.0076905\ttotal: 1.07s\tremaining: 296ms\n",
      "784:\tlearn: 0.0076733\ttotal: 1.07s\tremaining: 294ms\n",
      "785:\tlearn: 0.0076638\ttotal: 1.07s\tremaining: 293ms\n",
      "786:\tlearn: 0.0076537\ttotal: 1.08s\tremaining: 292ms\n",
      "787:\tlearn: 0.0076324\ttotal: 1.08s\tremaining: 290ms\n",
      "788:\tlearn: 0.0076226\ttotal: 1.08s\tremaining: 289ms\n",
      "789:\tlearn: 0.0076111\ttotal: 1.08s\tremaining: 287ms\n",
      "790:\tlearn: 0.0075988\ttotal: 1.08s\tremaining: 286ms\n",
      "791:\tlearn: 0.0075891\ttotal: 1.08s\tremaining: 284ms\n",
      "792:\tlearn: 0.0075770\ttotal: 1.08s\tremaining: 283ms\n",
      "793:\tlearn: 0.0075656\ttotal: 1.08s\tremaining: 282ms\n",
      "794:\tlearn: 0.0075560\ttotal: 1.09s\tremaining: 280ms\n",
      "795:\tlearn: 0.0075471\ttotal: 1.09s\tremaining: 279ms\n",
      "796:\tlearn: 0.0075372\ttotal: 1.09s\tremaining: 278ms\n",
      "797:\tlearn: 0.0075264\ttotal: 1.09s\tremaining: 276ms\n",
      "798:\tlearn: 0.0075173\ttotal: 1.09s\tremaining: 275ms\n",
      "799:\tlearn: 0.0075078\ttotal: 1.09s\tremaining: 273ms\n",
      "800:\tlearn: 0.0074983\ttotal: 1.09s\tremaining: 272ms\n",
      "801:\tlearn: 0.0074880\ttotal: 1.1s\tremaining: 271ms\n",
      "802:\tlearn: 0.0074786\ttotal: 1.1s\tremaining: 269ms\n",
      "803:\tlearn: 0.0074620\ttotal: 1.1s\tremaining: 268ms\n",
      "804:\tlearn: 0.0074513\ttotal: 1.1s\tremaining: 266ms\n",
      "805:\tlearn: 0.0074408\ttotal: 1.1s\tremaining: 265ms\n",
      "806:\tlearn: 0.0074321\ttotal: 1.1s\tremaining: 264ms\n",
      "807:\tlearn: 0.0074234\ttotal: 1.1s\tremaining: 262ms\n",
      "808:\tlearn: 0.0074148\ttotal: 1.1s\tremaining: 261ms\n",
      "809:\tlearn: 0.0074060\ttotal: 1.11s\tremaining: 260ms\n",
      "810:\tlearn: 0.0073970\ttotal: 1.11s\tremaining: 258ms\n",
      "811:\tlearn: 0.0073856\ttotal: 1.11s\tremaining: 257ms\n",
      "812:\tlearn: 0.0073765\ttotal: 1.11s\tremaining: 255ms\n",
      "813:\tlearn: 0.0073652\ttotal: 1.11s\tremaining: 254ms\n",
      "814:\tlearn: 0.0073566\ttotal: 1.11s\tremaining: 252ms\n",
      "815:\tlearn: 0.0073472\ttotal: 1.11s\tremaining: 251ms\n",
      "816:\tlearn: 0.0073384\ttotal: 1.11s\tremaining: 250ms\n",
      "817:\tlearn: 0.0073292\ttotal: 1.11s\tremaining: 248ms\n",
      "818:\tlearn: 0.0073195\ttotal: 1.12s\tremaining: 247ms\n",
      "819:\tlearn: 0.0073110\ttotal: 1.12s\tremaining: 246ms\n",
      "820:\tlearn: 0.0073021\ttotal: 1.12s\tremaining: 244ms\n",
      "821:\tlearn: 0.0072866\ttotal: 1.12s\tremaining: 243ms\n",
      "822:\tlearn: 0.0072773\ttotal: 1.12s\tremaining: 241ms\n",
      "823:\tlearn: 0.0072683\ttotal: 1.12s\tremaining: 240ms\n",
      "824:\tlearn: 0.0072587\ttotal: 1.12s\tremaining: 238ms\n",
      "825:\tlearn: 0.0072522\ttotal: 1.13s\tremaining: 237ms\n",
      "826:\tlearn: 0.0072428\ttotal: 1.13s\tremaining: 236ms\n",
      "827:\tlearn: 0.0072336\ttotal: 1.13s\tremaining: 235ms\n",
      "828:\tlearn: 0.0072138\ttotal: 1.13s\tremaining: 233ms\n",
      "829:\tlearn: 0.0072053\ttotal: 1.13s\tremaining: 232ms\n",
      "830:\tlearn: 0.0071909\ttotal: 1.13s\tremaining: 231ms\n",
      "831:\tlearn: 0.0071813\ttotal: 1.14s\tremaining: 229ms\n",
      "832:\tlearn: 0.0071726\ttotal: 1.14s\tremaining: 228ms\n",
      "833:\tlearn: 0.0071641\ttotal: 1.14s\tremaining: 226ms\n",
      "834:\tlearn: 0.0071554\ttotal: 1.14s\tremaining: 225ms\n",
      "835:\tlearn: 0.0071458\ttotal: 1.14s\tremaining: 224ms\n",
      "836:\tlearn: 0.0071354\ttotal: 1.14s\tremaining: 222ms\n",
      "837:\tlearn: 0.0071162\ttotal: 1.14s\tremaining: 221ms\n",
      "838:\tlearn: 0.0071083\ttotal: 1.14s\tremaining: 219ms\n",
      "839:\tlearn: 0.0071000\ttotal: 1.14s\tremaining: 218ms\n",
      "840:\tlearn: 0.0070912\ttotal: 1.15s\tremaining: 217ms\n",
      "841:\tlearn: 0.0070850\ttotal: 1.15s\tremaining: 215ms\n",
      "842:\tlearn: 0.0070763\ttotal: 1.15s\tremaining: 214ms\n",
      "843:\tlearn: 0.0070582\ttotal: 1.15s\tremaining: 212ms\n",
      "844:\tlearn: 0.0070495\ttotal: 1.15s\tremaining: 211ms\n",
      "845:\tlearn: 0.0070414\ttotal: 1.15s\tremaining: 210ms\n",
      "846:\tlearn: 0.0070337\ttotal: 1.15s\tremaining: 208ms\n",
      "847:\tlearn: 0.0070254\ttotal: 1.15s\tremaining: 207ms\n",
      "848:\tlearn: 0.0070158\ttotal: 1.16s\tremaining: 206ms\n",
      "849:\tlearn: 0.0070023\ttotal: 1.16s\tremaining: 204ms\n",
      "850:\tlearn: 0.0069942\ttotal: 1.16s\tremaining: 203ms\n",
      "851:\tlearn: 0.0069851\ttotal: 1.16s\tremaining: 201ms\n",
      "852:\tlearn: 0.0069763\ttotal: 1.16s\tremaining: 200ms\n",
      "853:\tlearn: 0.0069679\ttotal: 1.16s\tremaining: 199ms\n",
      "854:\tlearn: 0.0069596\ttotal: 1.16s\tremaining: 197ms\n",
      "855:\tlearn: 0.0069492\ttotal: 1.17s\tremaining: 196ms\n",
      "856:\tlearn: 0.0069405\ttotal: 1.17s\tremaining: 195ms\n",
      "857:\tlearn: 0.0069319\ttotal: 1.17s\tremaining: 193ms\n",
      "858:\tlearn: 0.0069237\ttotal: 1.17s\tremaining: 192ms\n",
      "859:\tlearn: 0.0069160\ttotal: 1.17s\tremaining: 191ms\n",
      "860:\tlearn: 0.0069065\ttotal: 1.17s\tremaining: 189ms\n",
      "861:\tlearn: 0.0068967\ttotal: 1.17s\tremaining: 188ms\n",
      "862:\tlearn: 0.0068883\ttotal: 1.17s\tremaining: 186ms\n",
      "863:\tlearn: 0.0068794\ttotal: 1.18s\tremaining: 185ms\n",
      "864:\tlearn: 0.0068699\ttotal: 1.18s\tremaining: 184ms\n",
      "865:\tlearn: 0.0068521\ttotal: 1.18s\tremaining: 182ms\n",
      "866:\tlearn: 0.0068439\ttotal: 1.18s\tremaining: 181ms\n",
      "867:\tlearn: 0.0068362\ttotal: 1.18s\tremaining: 180ms\n",
      "868:\tlearn: 0.0068282\ttotal: 1.18s\tremaining: 178ms\n",
      "869:\tlearn: 0.0068198\ttotal: 1.18s\tremaining: 177ms\n",
      "870:\tlearn: 0.0068118\ttotal: 1.18s\tremaining: 175ms\n",
      "871:\tlearn: 0.0068040\ttotal: 1.19s\tremaining: 174ms\n",
      "872:\tlearn: 0.0067944\ttotal: 1.19s\tremaining: 173ms\n",
      "873:\tlearn: 0.0067868\ttotal: 1.19s\tremaining: 171ms\n",
      "874:\tlearn: 0.0067701\ttotal: 1.19s\tremaining: 170ms\n",
      "875:\tlearn: 0.0067610\ttotal: 1.19s\tremaining: 169ms\n",
      "876:\tlearn: 0.0067528\ttotal: 1.19s\tremaining: 167ms\n",
      "877:\tlearn: 0.0067455\ttotal: 1.19s\tremaining: 166ms\n",
      "878:\tlearn: 0.0067368\ttotal: 1.19s\tremaining: 164ms\n",
      "879:\tlearn: 0.0067293\ttotal: 1.2s\tremaining: 163ms\n",
      "880:\tlearn: 0.0067214\ttotal: 1.2s\tremaining: 162ms\n",
      "881:\tlearn: 0.0067140\ttotal: 1.2s\tremaining: 160ms\n",
      "882:\tlearn: 0.0067063\ttotal: 1.2s\tremaining: 159ms\n",
      "883:\tlearn: 0.0066994\ttotal: 1.2s\tremaining: 157ms\n",
      "884:\tlearn: 0.0066912\ttotal: 1.2s\tremaining: 156ms\n",
      "885:\tlearn: 0.0066831\ttotal: 1.2s\tremaining: 155ms\n",
      "886:\tlearn: 0.0066757\ttotal: 1.2s\tremaining: 153ms\n",
      "887:\tlearn: 0.0066672\ttotal: 1.21s\tremaining: 152ms\n",
      "888:\tlearn: 0.0066539\ttotal: 1.21s\tremaining: 151ms\n",
      "889:\tlearn: 0.0066451\ttotal: 1.21s\tremaining: 149ms\n",
      "890:\tlearn: 0.0066367\ttotal: 1.21s\tremaining: 148ms\n",
      "891:\tlearn: 0.0066290\ttotal: 1.21s\tremaining: 147ms\n",
      "892:\tlearn: 0.0066215\ttotal: 1.21s\tremaining: 145ms\n",
      "893:\tlearn: 0.0066136\ttotal: 1.21s\tremaining: 144ms\n",
      "894:\tlearn: 0.0066061\ttotal: 1.21s\tremaining: 143ms\n",
      "895:\tlearn: 0.0065984\ttotal: 1.22s\tremaining: 141ms\n",
      "896:\tlearn: 0.0065917\ttotal: 1.22s\tremaining: 140ms\n",
      "897:\tlearn: 0.0065841\ttotal: 1.22s\tremaining: 138ms\n",
      "898:\tlearn: 0.0065769\ttotal: 1.22s\tremaining: 137ms\n",
      "899:\tlearn: 0.0065691\ttotal: 1.22s\tremaining: 136ms\n",
      "900:\tlearn: 0.0065536\ttotal: 1.22s\tremaining: 134ms\n",
      "901:\tlearn: 0.0065452\ttotal: 1.22s\tremaining: 133ms\n",
      "902:\tlearn: 0.0065370\ttotal: 1.23s\tremaining: 132ms\n",
      "903:\tlearn: 0.0065299\ttotal: 1.23s\tremaining: 130ms\n",
      "904:\tlearn: 0.0065224\ttotal: 1.23s\tremaining: 129ms\n",
      "905:\tlearn: 0.0065157\ttotal: 1.23s\tremaining: 128ms\n",
      "906:\tlearn: 0.0065003\ttotal: 1.23s\tremaining: 126ms\n",
      "907:\tlearn: 0.0064936\ttotal: 1.23s\tremaining: 125ms\n",
      "908:\tlearn: 0.0064867\ttotal: 1.23s\tremaining: 123ms\n",
      "909:\tlearn: 0.0064796\ttotal: 1.23s\tremaining: 122ms\n",
      "910:\tlearn: 0.0064709\ttotal: 1.23s\tremaining: 121ms\n",
      "911:\tlearn: 0.0064641\ttotal: 1.24s\tremaining: 119ms\n",
      "912:\tlearn: 0.0064568\ttotal: 1.24s\tremaining: 118ms\n",
      "913:\tlearn: 0.0064488\ttotal: 1.24s\tremaining: 117ms\n",
      "914:\tlearn: 0.0064423\ttotal: 1.24s\tremaining: 115ms\n",
      "915:\tlearn: 0.0064337\ttotal: 1.24s\tremaining: 114ms\n",
      "916:\tlearn: 0.0064265\ttotal: 1.24s\tremaining: 112ms\n",
      "917:\tlearn: 0.0064120\ttotal: 1.24s\tremaining: 111ms\n",
      "918:\tlearn: 0.0064047\ttotal: 1.25s\tremaining: 110ms\n",
      "919:\tlearn: 0.0063972\ttotal: 1.25s\tremaining: 108ms\n",
      "920:\tlearn: 0.0063887\ttotal: 1.25s\tremaining: 107ms\n",
      "921:\tlearn: 0.0063813\ttotal: 1.25s\tremaining: 106ms\n",
      "922:\tlearn: 0.0063732\ttotal: 1.25s\tremaining: 104ms\n",
      "923:\tlearn: 0.0063578\ttotal: 1.25s\tremaining: 103ms\n",
      "924:\tlearn: 0.0063512\ttotal: 1.25s\tremaining: 102ms\n",
      "925:\tlearn: 0.0063360\ttotal: 1.25s\tremaining: 100ms\n",
      "926:\tlearn: 0.0063290\ttotal: 1.25s\tremaining: 98.8ms\n",
      "927:\tlearn: 0.0063213\ttotal: 1.25s\tremaining: 97.4ms\n",
      "928:\tlearn: 0.0063145\ttotal: 1.26s\tremaining: 96.1ms\n",
      "929:\tlearn: 0.0063082\ttotal: 1.26s\tremaining: 94.7ms\n",
      "930:\tlearn: 0.0063013\ttotal: 1.26s\tremaining: 93.4ms\n",
      "931:\tlearn: 0.0062945\ttotal: 1.26s\tremaining: 92ms\n",
      "932:\tlearn: 0.0062879\ttotal: 1.26s\tremaining: 90.6ms\n",
      "933:\tlearn: 0.0062796\ttotal: 1.26s\tremaining: 89.2ms\n",
      "934:\tlearn: 0.0062734\ttotal: 1.26s\tremaining: 87.8ms\n",
      "935:\tlearn: 0.0062668\ttotal: 1.26s\tremaining: 86.5ms\n",
      "936:\tlearn: 0.0062616\ttotal: 1.27s\tremaining: 85.1ms\n",
      "937:\tlearn: 0.0062549\ttotal: 1.27s\tremaining: 83.8ms\n",
      "938:\tlearn: 0.0062459\ttotal: 1.27s\tremaining: 82.4ms\n",
      "939:\tlearn: 0.0062394\ttotal: 1.27s\tremaining: 81.1ms\n",
      "940:\tlearn: 0.0062327\ttotal: 1.27s\tremaining: 79.7ms\n",
      "941:\tlearn: 0.0062255\ttotal: 1.27s\tremaining: 78.3ms\n",
      "942:\tlearn: 0.0062189\ttotal: 1.27s\tremaining: 77ms\n",
      "943:\tlearn: 0.0062125\ttotal: 1.27s\tremaining: 75.6ms\n",
      "944:\tlearn: 0.0062059\ttotal: 1.28s\tremaining: 74.3ms\n",
      "945:\tlearn: 0.0061995\ttotal: 1.28s\tremaining: 72.9ms\n",
      "946:\tlearn: 0.0061915\ttotal: 1.28s\tremaining: 71.6ms\n",
      "947:\tlearn: 0.0061849\ttotal: 1.28s\tremaining: 70.2ms\n",
      "948:\tlearn: 0.0061775\ttotal: 1.28s\tremaining: 68.8ms\n",
      "949:\tlearn: 0.0061713\ttotal: 1.28s\tremaining: 67.5ms\n",
      "950:\tlearn: 0.0061643\ttotal: 1.28s\tremaining: 66.1ms\n",
      "951:\tlearn: 0.0061577\ttotal: 1.28s\tremaining: 64.8ms\n",
      "952:\tlearn: 0.0061517\ttotal: 1.29s\tremaining: 63.4ms\n",
      "953:\tlearn: 0.0061453\ttotal: 1.29s\tremaining: 62.1ms\n",
      "954:\tlearn: 0.0061390\ttotal: 1.29s\tremaining: 60.7ms\n",
      "955:\tlearn: 0.0061247\ttotal: 1.29s\tremaining: 59.4ms\n",
      "956:\tlearn: 0.0061186\ttotal: 1.29s\tremaining: 58ms\n",
      "957:\tlearn: 0.0061122\ttotal: 1.29s\tremaining: 56.7ms\n",
      "958:\tlearn: 0.0061059\ttotal: 1.29s\tremaining: 55.3ms\n",
      "959:\tlearn: 0.0060997\ttotal: 1.29s\tremaining: 53.9ms\n",
      "960:\tlearn: 0.0060935\ttotal: 1.29s\tremaining: 52.6ms\n",
      "961:\tlearn: 0.0060849\ttotal: 1.3s\tremaining: 51.2ms\n",
      "962:\tlearn: 0.0060772\ttotal: 1.3s\tremaining: 49.9ms\n",
      "963:\tlearn: 0.0060708\ttotal: 1.3s\tremaining: 48.5ms\n",
      "964:\tlearn: 0.0060631\ttotal: 1.3s\tremaining: 47.2ms\n",
      "965:\tlearn: 0.0060566\ttotal: 1.3s\tremaining: 45.8ms\n",
      "966:\tlearn: 0.0060503\ttotal: 1.3s\tremaining: 44.5ms\n",
      "967:\tlearn: 0.0060430\ttotal: 1.3s\tremaining: 43.1ms\n",
      "968:\tlearn: 0.0060292\ttotal: 1.3s\tremaining: 41.8ms\n",
      "969:\tlearn: 0.0060231\ttotal: 1.31s\tremaining: 40.4ms\n",
      "970:\tlearn: 0.0060187\ttotal: 1.31s\tremaining: 39.1ms\n",
      "971:\tlearn: 0.0060117\ttotal: 1.31s\tremaining: 37.7ms\n",
      "972:\tlearn: 0.0060053\ttotal: 1.31s\tremaining: 36.4ms\n",
      "973:\tlearn: 0.0059986\ttotal: 1.31s\tremaining: 35ms\n",
      "974:\tlearn: 0.0059941\ttotal: 1.31s\tremaining: 33.7ms\n",
      "975:\tlearn: 0.0059869\ttotal: 1.31s\tremaining: 32.3ms\n",
      "976:\tlearn: 0.0059803\ttotal: 1.32s\tremaining: 31ms\n",
      "977:\tlearn: 0.0059739\ttotal: 1.32s\tremaining: 29.6ms\n",
      "978:\tlearn: 0.0059682\ttotal: 1.32s\tremaining: 28.3ms\n",
      "979:\tlearn: 0.0059622\ttotal: 1.32s\tremaining: 27ms\n",
      "980:\tlearn: 0.0059555\ttotal: 1.32s\tremaining: 25.6ms\n",
      "981:\tlearn: 0.0059496\ttotal: 1.32s\tremaining: 24.3ms\n",
      "982:\tlearn: 0.0059433\ttotal: 1.32s\tremaining: 22.9ms\n",
      "983:\tlearn: 0.0059375\ttotal: 1.33s\tremaining: 21.6ms\n",
      "984:\tlearn: 0.0059314\ttotal: 1.33s\tremaining: 20.2ms\n",
      "985:\tlearn: 0.0059247\ttotal: 1.33s\tremaining: 18.9ms\n",
      "986:\tlearn: 0.0059177\ttotal: 1.33s\tremaining: 17.5ms\n",
      "987:\tlearn: 0.0059109\ttotal: 1.33s\tremaining: 16.2ms\n",
      "988:\tlearn: 0.0059051\ttotal: 1.33s\tremaining: 14.8ms\n",
      "989:\tlearn: 0.0058997\ttotal: 1.33s\tremaining: 13.5ms\n",
      "990:\tlearn: 0.0058939\ttotal: 1.33s\tremaining: 12.1ms\n",
      "991:\tlearn: 0.0058873\ttotal: 1.34s\tremaining: 10.8ms\n",
      "992:\tlearn: 0.0058812\ttotal: 1.34s\tremaining: 9.43ms\n",
      "993:\tlearn: 0.0058746\ttotal: 1.34s\tremaining: 8.09ms\n",
      "994:\tlearn: 0.0058690\ttotal: 1.34s\tremaining: 6.74ms\n",
      "995:\tlearn: 0.0058632\ttotal: 1.34s\tremaining: 5.39ms\n",
      "996:\tlearn: 0.0058502\ttotal: 1.34s\tremaining: 4.04ms\n",
      "997:\tlearn: 0.0058446\ttotal: 1.34s\tremaining: 2.69ms\n",
      "998:\tlearn: 0.0058387\ttotal: 1.35s\tremaining: 1.35ms\n",
      "999:\tlearn: 0.0058344\ttotal: 1.35s\tremaining: 0us\n",
      "Accuracy =  100.0 %\n"
     ]
    }
   ],
   "source": [
    "from catboost import CatBoostClassifier\n",
    "classifier_cb = CatBoostClassifier()\n",
    "classifier_cb.fit(X_train, Y_train)\n",
    "Y_predcb = classifier_cb.predict(X_test)\n",
    "print(\"Accuracy = \",accuracy_score(Y_test, Y_predcb)*100,\"%\")"
   ]
  },
  {
   "cell_type": "markdown",
   "id": "98bd835f",
   "metadata": {
    "papermill": {
     "duration": 0.010298,
     "end_time": "2022-08-24T20:24:49.049276",
     "exception": false,
     "start_time": "2022-08-24T20:24:49.038978",
     "status": "completed"
    },
    "tags": []
   },
   "source": [
    "**We get a perfect accuracy of 100%.**"
   ]
  }
 ],
 "metadata": {
  "kernelspec": {
   "display_name": "Python 3",
   "language": "python",
   "name": "python3"
  },
  "language_info": {
   "codemirror_mode": {
    "name": "ipython",
    "version": 3
   },
   "file_extension": ".py",
   "mimetype": "text/x-python",
   "name": "python",
   "nbconvert_exporter": "python",
   "pygments_lexer": "ipython3",
   "version": "3.7.12"
  },
  "papermill": {
   "default_parameters": {},
   "duration": 23.032892,
   "end_time": "2022-08-24T20:24:52.586960",
   "environment_variables": {},
   "exception": null,
   "input_path": "__notebook__.ipynb",
   "output_path": "__notebook__.ipynb",
   "parameters": {},
   "start_time": "2022-08-24T20:24:29.554068",
   "version": "2.3.4"
  }
 },
 "nbformat": 4,
 "nbformat_minor": 5
}
